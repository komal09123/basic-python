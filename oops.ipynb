{
 "cells": [
  {
   "cell_type": "markdown",
   "id": "4709dc6a-2b1f-4b18-991a-45b33869821f",
   "metadata": {},
   "source": [
    "# oop\n",
    "blue print of object by creating classes and its object orianted program"
   ]
  },
  {
   "cell_type": "code",
   "execution_count": 1,
   "id": "1908ba8d-82aa-495c-8e45-a9da79dff0d8",
   "metadata": {},
   "outputs": [],
   "source": [
    "class test():\n",
    "    def __init__(self,a,b,c):\n",
    "        self.a =a\n",
    "        self.b = b\n",
    "        self.c = c"
   ]
  },
  {
   "cell_type": "code",
   "execution_count": 2,
   "id": "a26843cf-c052-4d10-b0c7-0a2708fed144",
   "metadata": {},
   "outputs": [],
   "source": [
    "obj = test(10,20,\"hello\")"
   ]
  },
  {
   "cell_type": "code",
   "execution_count": 3,
   "id": "e62cc3c6-f50c-4711-b131-246239d07f98",
   "metadata": {},
   "outputs": [
    {
     "data": {
      "text/plain": [
       "10"
      ]
     },
     "execution_count": 3,
     "metadata": {},
     "output_type": "execute_result"
    }
   ],
   "source": [
    "obj.a"
   ]
  },
  {
   "cell_type": "code",
   "execution_count": 4,
   "id": "f44055ce-4d5d-4d47-8129-91b0bceeb3cc",
   "metadata": {},
   "outputs": [
    {
     "data": {
      "text/plain": [
       "20"
      ]
     },
     "execution_count": 4,
     "metadata": {},
     "output_type": "execute_result"
    }
   ],
   "source": [
    "obj.b"
   ]
  },
  {
   "cell_type": "code",
   "execution_count": 5,
   "id": "47cd0beb-95a3-4ccb-82ab-c128916bb85f",
   "metadata": {},
   "outputs": [
    {
     "data": {
      "text/plain": [
       "'hello'"
      ]
     },
     "execution_count": 5,
     "metadata": {},
     "output_type": "execute_result"
    }
   ],
   "source": [
    "obj.c"
   ]
  },
  {
   "cell_type": "code",
   "execution_count": 6,
   "id": "06924ea9-b9e5-4f15-aec0-a849daec3715",
   "metadata": {},
   "outputs": [],
   "source": [
    "class parent():\n",
    "    def singing(self):\n",
    "        return 'I am parent class and having skills of singing songs'"
   ]
  },
  {
   "cell_type": "code",
   "execution_count": 7,
   "id": "3613f809-37eb-4734-8342-cecdb1ff4b26",
   "metadata": {},
   "outputs": [],
   "source": [
    "class child(parent):\n",
    "    def cricket(self):\n",
    "        return 'I am child class and having skills of Plying cricket'"
   ]
  },
  {
   "cell_type": "code",
   "execution_count": 8,
   "id": "a010a40d-c067-49e5-a6dc-23a5a3fe903e",
   "metadata": {},
   "outputs": [],
   "source": [
    "p1 = parent()"
   ]
  },
  {
   "cell_type": "code",
   "execution_count": 9,
   "id": "ca4d2103-1d77-40f6-8c0d-05e23b8e928e",
   "metadata": {},
   "outputs": [
    {
     "data": {
      "text/plain": [
       "'I am parent class and having skills of singing songs'"
      ]
     },
     "execution_count": 9,
     "metadata": {},
     "output_type": "execute_result"
    }
   ],
   "source": [
    "p1.singing()"
   ]
  },
  {
   "cell_type": "code",
   "execution_count": 10,
   "id": "68946966-faaa-44cb-8f5f-1d53c7514153",
   "metadata": {},
   "outputs": [],
   "source": [
    "c1 = child()"
   ]
  },
  {
   "cell_type": "code",
   "execution_count": 11,
   "id": "88233432-3f07-460a-b5bc-7a6d6116fa64",
   "metadata": {},
   "outputs": [
    {
     "data": {
      "text/plain": [
       "'I am parent class and having skills of singing songs'"
      ]
     },
     "execution_count": 11,
     "metadata": {},
     "output_type": "execute_result"
    }
   ],
   "source": [
    "c1.singing()"
   ]
  },
  {
   "cell_type": "code",
   "execution_count": 12,
   "id": "c6e34393-cd8b-49b2-a19f-b342161ec009",
   "metadata": {},
   "outputs": [
    {
     "data": {
      "text/plain": [
       "'I am child class and having skills of Plying cricket'"
      ]
     },
     "execution_count": 12,
     "metadata": {},
     "output_type": "execute_result"
    }
   ],
   "source": [
    "c1.cricket()"
   ]
  },
  {
   "cell_type": "code",
   "execution_count": 13,
   "id": "7c3e9940-aed2-4fdd-abc7-b0783bcb558a",
   "metadata": {},
   "outputs": [],
   "source": [
    "def test():\n",
    "    return 'Hello'"
   ]
  },
  {
   "cell_type": "code",
   "execution_count": 14,
   "id": "b38c1a72-8ac5-4f69-8a78-1e6278d8900c",
   "metadata": {},
   "outputs": [
    {
     "data": {
      "text/plain": [
       "'Hello'"
      ]
     },
     "execution_count": 14,
     "metadata": {},
     "output_type": "execute_result"
    }
   ],
   "source": [
    "test()"
   ]
  },
  {
   "cell_type": "code",
   "execution_count": 15,
   "id": "44ec21a4-d8d5-4ba1-be04-514d148c0c60",
   "metadata": {},
   "outputs": [],
   "source": [
    "class test1():\n",
    "    def drawing(self):\n",
    "        return 'I am test1 class and having drawing skills'\n",
    "    def dancing(self):\n",
    "        return 'I am test1 class and having skills of dancing'"
   ]
  },
  {
   "cell_type": "code",
   "execution_count": 16,
   "id": "171fb72e-c47d-455e-923a-d09595b0cea9",
   "metadata": {},
   "outputs": [],
   "source": [
    "class test2(test1):\n",
    "    def football(self):\n",
    "        return 'I am test2 having skills of football'"
   ]
  },
  {
   "cell_type": "code",
   "execution_count": 17,
   "id": "da21d704-cf83-4c69-b0d9-cfa0041b41c2",
   "metadata": {},
   "outputs": [],
   "source": [
    "obj1 = test1()"
   ]
  },
  {
   "cell_type": "code",
   "execution_count": 18,
   "id": "bbff52b7-805f-4fed-9b3c-4f60de2ee69b",
   "metadata": {},
   "outputs": [
    {
     "data": {
      "text/plain": [
       "'I am test1 class and having skills of dancing'"
      ]
     },
     "execution_count": 18,
     "metadata": {},
     "output_type": "execute_result"
    }
   ],
   "source": [
    "obj1.dancing()"
   ]
  },
  {
   "cell_type": "code",
   "execution_count": 19,
   "id": "9adcbfee-79b0-4ca0-afb4-c48d0239f20f",
   "metadata": {},
   "outputs": [
    {
     "data": {
      "text/plain": [
       "'I am test1 class and having drawing skills'"
      ]
     },
     "execution_count": 19,
     "metadata": {},
     "output_type": "execute_result"
    }
   ],
   "source": [
    "obj1.drawing()"
   ]
  },
  {
   "cell_type": "code",
   "execution_count": 20,
   "id": "dcd3de1f-78d5-4940-861d-150a2a9f45e7",
   "metadata": {},
   "outputs": [],
   "source": [
    "obj2 = test2()"
   ]
  },
  {
   "cell_type": "code",
   "execution_count": 21,
   "id": "e3dc407e-fafe-44f7-9d0b-848227484fc5",
   "metadata": {},
   "outputs": [
    {
     "data": {
      "text/plain": [
       "'I am test1 class and having skills of dancing'"
      ]
     },
     "execution_count": 21,
     "metadata": {},
     "output_type": "execute_result"
    }
   ],
   "source": [
    "obj2.dancing()"
   ]
  },
  {
   "cell_type": "code",
   "execution_count": 22,
   "id": "65faa454-d276-4124-8897-64a8a7b82d43",
   "metadata": {},
   "outputs": [
    {
     "data": {
      "text/plain": [
       "'I am test1 class and having drawing skills'"
      ]
     },
     "execution_count": 22,
     "metadata": {},
     "output_type": "execute_result"
    }
   ],
   "source": [
    "obj2.drawing()"
   ]
  },
  {
   "cell_type": "code",
   "execution_count": 23,
   "id": "199081a6-9244-42af-93b3-6419c76e3f6a",
   "metadata": {},
   "outputs": [
    {
     "data": {
      "text/plain": [
       "'I am test2 having skills of football'"
      ]
     },
     "execution_count": 23,
     "metadata": {},
     "output_type": "execute_result"
    }
   ],
   "source": [
    "obj2.football()"
   ]
  },
  {
   "cell_type": "code",
   "execution_count": 24,
   "id": "378bc699-6424-4178-b5ef-4f94bcea7c43",
   "metadata": {},
   "outputs": [],
   "source": [
    "class test3(test2):\n",
    "    def acting(self):\n",
    "        return 'I am test3 class and able to do acting'"
   ]
  },
  {
   "cell_type": "code",
   "execution_count": 25,
   "id": "e8c4306c-bc3e-4f97-9b3a-53062f329943",
   "metadata": {},
   "outputs": [],
   "source": [
    "obj3 = test3()"
   ]
  },
  {
   "cell_type": "code",
   "execution_count": 26,
   "id": "80565ef0-1bad-4e5d-ad1e-d0ef705d3892",
   "metadata": {},
   "outputs": [
    {
     "data": {
      "text/plain": [
       "'I am test3 class and able to do acting'"
      ]
     },
     "execution_count": 26,
     "metadata": {},
     "output_type": "execute_result"
    }
   ],
   "source": [
    "test3.acting(' ')"
   ]
  },
  {
   "cell_type": "markdown",
   "id": "2894dc93-b31c-4768-b761-986bd46d726c",
   "metadata": {},
   "source": [
    "# Incalpsulation"
   ]
  },
  {
   "cell_type": "code",
   "execution_count": 27,
   "id": "7e203f20-7274-483b-8a10-2b7cdab720e7",
   "metadata": {},
   "outputs": [],
   "source": [
    "class student():\n",
    "    def __init__(self,First_name,Middle_name,City):\n",
    "        self.First_name = First_name        #Public\n",
    "        self._Middle_name = Middle_name      #Protected\n",
    "        self.__City = City                   #Private"
   ]
  },
  {
   "cell_type": "code",
   "execution_count": 28,
   "id": "3e5c8908-099c-40b3-99d4-24d7af607f34",
   "metadata": {},
   "outputs": [],
   "source": [
    "std1 = student('X','Y','Pune')"
   ]
  },
  {
   "cell_type": "code",
   "execution_count": 29,
   "id": "fb72a2cb-7406-4391-90e9-93021915361f",
   "metadata": {},
   "outputs": [
    {
     "data": {
      "text/plain": [
       "'X'"
      ]
     },
     "execution_count": 29,
     "metadata": {},
     "output_type": "execute_result"
    }
   ],
   "source": [
    "std1.First_name"
   ]
  },
  {
   "cell_type": "code",
   "execution_count": 30,
   "id": "da7ee92a-00cb-48d0-93f4-bcaf11712a46",
   "metadata": {},
   "outputs": [
    {
     "data": {
      "text/plain": [
       "'Y'"
      ]
     },
     "execution_count": 30,
     "metadata": {},
     "output_type": "execute_result"
    }
   ],
   "source": [
    "std1._Middle_name       #Protected ---> obj._Middle_name"
   ]
  },
  {
   "cell_type": "code",
   "execution_count": 31,
   "id": "94081168-5db9-4794-8a46-ebc68e150672",
   "metadata": {},
   "outputs": [
    {
     "data": {
      "text/plain": [
       "'Pune'"
      ]
     },
     "execution_count": 31,
     "metadata": {},
     "output_type": "execute_result"
    }
   ],
   "source": [
    "std1._student__City   #Private -->obj._classname__City"
   ]
  },
  {
   "cell_type": "code",
   "execution_count": 32,
   "id": "32d29f9e-b363-4abf-9b9c-1b6f6292da52",
   "metadata": {},
   "outputs": [],
   "source": [
    "class student2(student):\n",
    "    pass"
   ]
  },
  {
   "cell_type": "code",
   "execution_count": 33,
   "id": "15e82429-2ce1-4c74-b803-52a5931807ee",
   "metadata": {},
   "outputs": [],
   "source": [
    "obj = student2('A','B','Solapur')"
   ]
  },
  {
   "cell_type": "code",
   "execution_count": 34,
   "id": "f819b0a6-43e8-4624-9830-62c5d6859da9",
   "metadata": {},
   "outputs": [
    {
     "data": {
      "text/plain": [
       "'A'"
      ]
     },
     "execution_count": 34,
     "metadata": {},
     "output_type": "execute_result"
    }
   ],
   "source": [
    "obj.First_name"
   ]
  },
  {
   "cell_type": "code",
   "execution_count": 35,
   "id": "7271120e-d808-4fdf-a857-584de417d79d",
   "metadata": {},
   "outputs": [
    {
     "data": {
      "text/plain": [
       "'B'"
      ]
     },
     "execution_count": 35,
     "metadata": {},
     "output_type": "execute_result"
    }
   ],
   "source": [
    "obj._Middle_name"
   ]
  },
  {
   "cell_type": "code",
   "execution_count": 36,
   "id": "50c3e8ee-be24-4a2a-8860-9c0e82db47b9",
   "metadata": {},
   "outputs": [
    {
     "data": {
      "text/plain": [
       "'Solapur'"
      ]
     },
     "execution_count": 36,
     "metadata": {},
     "output_type": "execute_result"
    }
   ],
   "source": [
    "obj._student__City"
   ]
  },
  {
   "cell_type": "markdown",
   "id": "71d7ce44-b2df-49b2-898f-09a5c1a85097",
   "metadata": {},
   "source": [
    "# polymorphism"
   ]
  },
  {
   "cell_type": "code",
   "execution_count": 37,
   "id": "b606071d-e205-4b03-8dbc-baafb7addf41",
   "metadata": {},
   "outputs": [],
   "source": [
    "class social_media():\n",
    "    def share_story (self):\n",
    "        return 'sharing story on social media'"
   ]
  },
  {
   "cell_type": "code",
   "execution_count": 39,
   "id": "a133e7df-59bf-4946-8bc3-545082fa0ed8",
   "metadata": {},
   "outputs": [],
   "source": [
    "class instagram():\n",
    "    def share_story (self):\n",
    "        return 'sharing story on instagram'"
   ]
  },
  {
   "cell_type": "code",
   "execution_count": 40,
   "id": "e04e7649-0153-48d0-b810-6244e28d445b",
   "metadata": {},
   "outputs": [],
   "source": [
    "class facebook():\n",
    "    def share_story (self):\n",
    "        return 'sharing story on facebook'"
   ]
  },
  {
   "cell_type": "code",
   "execution_count": 44,
   "id": "6798373b-7424-4471-b773-f4c1a246ebf3",
   "metadata": {},
   "outputs": [],
   "source": [
    "obj = facebook()"
   ]
  },
  {
   "cell_type": "code",
   "execution_count": 45,
   "id": "6e47b94c-7a1b-4502-8d3b-186052c05d36",
   "metadata": {},
   "outputs": [
    {
     "data": {
      "text/plain": [
       "'sharing story on facebook'"
      ]
     },
     "execution_count": 45,
     "metadata": {},
     "output_type": "execute_result"
    }
   ],
   "source": [
    "obj.share_story()"
   ]
  },
  {
   "cell_type": "code",
   "execution_count": 46,
   "id": "1304e79a-1f83-444e-bfa9-f607f81d4ed0",
   "metadata": {},
   "outputs": [],
   "source": [
    "class animal():\n",
    "    def make_sound(self):\n",
    "        return 'Animal is making sound'"
   ]
  },
  {
   "cell_type": "code",
   "execution_count": 47,
   "id": "2ff4b950-4b4c-482f-b1f4-3d9202865427",
   "metadata": {},
   "outputs": [],
   "source": [
    "class Dog(animal):\n",
    "    def make_sound(self):\n",
    "        return 'Dog is making sound Bhau - bhau'"
   ]
  },
  {
   "cell_type": "code",
   "execution_count": 48,
   "id": "d31cbaf7-0902-4fc7-8499-60f8a7bfa89b",
   "metadata": {},
   "outputs": [],
   "source": [
    "class Cat(animal):\n",
    "    def make_sound(self):\n",
    "        return 'Cat is making sound Mau-Mau'"
   ]
  },
  {
   "cell_type": "code",
   "execution_count": 49,
   "id": "d9631612-6a1a-42f9-b0ca-bb3827880777",
   "metadata": {},
   "outputs": [],
   "source": [
    "c = Cat()"
   ]
  },
  {
   "cell_type": "code",
   "execution_count": 50,
   "id": "6267a75c-24c2-4736-801e-e726c72cdb0b",
   "metadata": {},
   "outputs": [
    {
     "data": {
      "text/plain": [
       "'Cat is making sound Mau-Mau'"
      ]
     },
     "execution_count": 50,
     "metadata": {},
     "output_type": "execute_result"
    }
   ],
   "source": [
    "c.make_sound()"
   ]
  },
  {
   "cell_type": "markdown",
   "id": "d96b4e3a-19d3-4aa5-bb89-023189f9e743",
   "metadata": {},
   "source": [
    "# Abstraction"
   ]
  },
  {
   "cell_type": "code",
   "execution_count": 51,
   "id": "72f73982-74b5-4fe8-8fc8-ced5eca119c4",
   "metadata": {},
   "outputs": [],
   "source": [
    "from abc import ABC, abstractmethod"
   ]
  },
  {
   "cell_type": "code",
   "execution_count": 52,
   "id": "5c8f84ec-5ab2-4961-915b-abbd747a59ed",
   "metadata": {},
   "outputs": [],
   "source": [
    "class car(ABC):\n",
    "    @abstractmethod\n",
    "    def wheels(slef):\n",
    "        pass"
   ]
  },
  {
   "cell_type": "code",
   "execution_count": 53,
   "id": "6ffdd2f6-3511-4d9d-a3d6-5c7c2e146a81",
   "metadata": {},
   "outputs": [],
   "source": [
    "class fortuner(car):\n",
    "    def wheels(self):\n",
    "        return 'Fortuner is having 4 wheels'"
   ]
  },
  {
   "cell_type": "code",
   "execution_count": 54,
   "id": "081b89b5-f5ff-40fe-8c5c-daca2df60266",
   "metadata": {},
   "outputs": [],
   "source": [
    "obj1 = fortuner()"
   ]
  },
  {
   "cell_type": "code",
   "execution_count": 55,
   "id": "d89d84c4-5565-43ec-916c-d299c40cb732",
   "metadata": {},
   "outputs": [
    {
     "data": {
      "text/plain": [
       "'Fortuner is having 4 wheels'"
      ]
     },
     "execution_count": 55,
     "metadata": {},
     "output_type": "execute_result"
    }
   ],
   "source": [
    "obj1.wheels()"
   ]
  },
  {
   "cell_type": "code",
   "execution_count": 58,
   "id": "1d1570ed-dc90-44b2-8a3d-b4ad9db70636",
   "metadata": {},
   "outputs": [],
   "source": [
    "class truck(car):\n",
    "    def wheels(self):\n",
    "        return 'truck is having 10 wheels'\n",
    "    def engine(self):\n",
    "        return '1200 engine of truck'"
   ]
  },
  {
   "cell_type": "code",
   "execution_count": 61,
   "id": "12bb0f73-3a0b-4ec9-8225-392cdb670bba",
   "metadata": {},
   "outputs": [],
   "source": [
    "obj = truck()"
   ]
  },
  {
   "cell_type": "code",
   "execution_count": 62,
   "id": "ff56d328-068e-459f-91ba-30bcb5196fe5",
   "metadata": {},
   "outputs": [
    {
     "data": {
      "text/plain": [
       "'truck is having 10 wheels'"
      ]
     },
     "execution_count": 62,
     "metadata": {},
     "output_type": "execute_result"
    }
   ],
   "source": [
    "obj.wheels()"
   ]
  },
  {
   "cell_type": "code",
   "execution_count": 63,
   "id": "4ee3340e-e32e-4f73-a66a-c26e441d3e8a",
   "metadata": {},
   "outputs": [],
   "source": [
    "class house(ABC):\n",
    "    @abstractmethod\n",
    "    def base(self):\n",
    "        pass"
   ]
  },
  {
   "cell_type": "code",
   "execution_count": 64,
   "id": "8268e8ae-b88d-4db5-9394-0a53c9020787",
   "metadata": {},
   "outputs": [],
   "source": [
    "class apartment(house):\n",
    "    def base(self):\n",
    "        return 'We have base for apartment'\n",
    "    def floors(self):\n",
    "        return 'We have 6floors apt'"
   ]
  },
  {
   "cell_type": "code",
   "execution_count": 65,
   "id": "23481e8d-75af-4a5b-853d-8f93004c9fc9",
   "metadata": {},
   "outputs": [],
   "source": [
    "a = apartment()"
   ]
  },
  {
   "cell_type": "code",
   "execution_count": 66,
   "id": "bfb9a699-87b6-404b-b520-227815bf70d6",
   "metadata": {},
   "outputs": [
    {
     "data": {
      "text/plain": [
       "'We have base for apartment'"
      ]
     },
     "execution_count": 66,
     "metadata": {},
     "output_type": "execute_result"
    }
   ],
   "source": [
    "a.base()"
   ]
  },
  {
   "cell_type": "code",
   "execution_count": 67,
   "id": "b3d1c6a0-d25e-45bb-b829-0bc9bdbb00ef",
   "metadata": {},
   "outputs": [
    {
     "data": {
      "text/plain": [
       "'We have 6floors apt'"
      ]
     },
     "execution_count": 67,
     "metadata": {},
     "output_type": "execute_result"
    }
   ],
   "source": [
    "a.floors()"
   ]
  },
  {
   "cell_type": "code",
   "execution_count": 68,
   "id": "1b08cb3c-9896-4e3d-81b4-d93ffb84af2e",
   "metadata": {},
   "outputs": [
    {
     "name": "stdout",
     "output_type": "stream",
     "text": [
      "Requirement already satisfied: numpy in c:\\users\\komal\\anaconda3\\lib\\site-packages (1.26.4)\n",
      "Note: you may need to restart the kernel to use updated packages.\n"
     ]
    }
   ],
   "source": [
    "pip install numpy"
   ]
  },
  {
   "cell_type": "code",
   "execution_count": 69,
   "id": "d2179306-62c9-4c78-ad10-08504c2f4994",
   "metadata": {},
   "outputs": [],
   "source": [
    "import numpy as np"
   ]
  },
  {
   "cell_type": "code",
   "execution_count": 70,
   "id": "5773112e-4013-4820-a294-00a1e69d31c1",
   "metadata": {},
   "outputs": [
    {
     "data": {
      "text/plain": [
       "3.5"
      ]
     },
     "execution_count": 70,
     "metadata": {},
     "output_type": "execute_result"
    }
   ],
   "source": [
    "np.mean([1,2,3,4,5,6])"
   ]
  },
  {
   "cell_type": "code",
   "execution_count": null,
   "id": "cc2ed300-22e7-4904-a9bb-b26b1819a1ae",
   "metadata": {},
   "outputs": [],
   "source": []
  }
 ],
 "metadata": {
  "kernelspec": {
   "display_name": "Python 3 (ipykernel)",
   "language": "python",
   "name": "python3"
  },
  "language_info": {
   "codemirror_mode": {
    "name": "ipython",
    "version": 3
   },
   "file_extension": ".py",
   "mimetype": "text/x-python",
   "name": "python",
   "nbconvert_exporter": "python",
   "pygments_lexer": "ipython3",
   "version": "3.12.7"
  }
 },
 "nbformat": 4,
 "nbformat_minor": 5
}
