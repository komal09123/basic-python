{
 "cells": [
  {
   "cell_type": "markdown",
   "id": "86842251-6aca-44cf-8389-97ebcb80d0b3",
   "metadata": {},
   "source": [
    "# operations\n",
    "operation means we are performing some tasks"
   ]
  },
  {
   "cell_type": "code",
   "execution_count": 2,
   "id": "70f589bb-8af3-4fec-bbbf-5eb2321a01e6",
   "metadata": {},
   "outputs": [
    {
     "data": {
      "text/plain": [
       "10"
      ]
     },
     "execution_count": 2,
     "metadata": {},
     "output_type": "execute_result"
    }
   ],
   "source": [
    "5*2  # it is one type of operation "
   ]
  },
  {
   "cell_type": "code",
   "execution_count": 4,
   "id": "3557fcdb-18d3-428f-b625-65cec91d0a5b",
   "metadata": {},
   "outputs": [
    {
     "data": {
      "text/plain": [
       "'hellopython'"
      ]
     },
     "execution_count": 4,
     "metadata": {},
     "output_type": "execute_result"
    }
   ],
   "source": [
    "'hello' + 'python'"
   ]
  },
  {
   "cell_type": "code",
   "execution_count": 5,
   "id": "3a30dcf9-1726-4ee2-bb40-86d4cbe74493",
   "metadata": {},
   "outputs": [
    {
     "data": {
      "text/plain": [
       "'hello python'"
      ]
     },
     "execution_count": 5,
     "metadata": {},
     "output_type": "execute_result"
    }
   ],
   "source": [
    "(\"hello\" + \" \" + \"python\")"
   ]
  },
  {
   "cell_type": "markdown",
   "id": "df5e7b74-eece-4aee-9519-acf1064eda6a",
   "metadata": {},
   "source": [
    "# mode\n",
    "mode means reminder"
   ]
  },
  {
   "cell_type": "code",
   "execution_count": 6,
   "id": "31f64647-4816-4736-8da1-f34763752162",
   "metadata": {},
   "outputs": [
    {
     "data": {
      "text/plain": [
       "1"
      ]
     },
     "execution_count": 6,
     "metadata": {},
     "output_type": "execute_result"
    }
   ],
   "source": [
    "9%2"
   ]
  }
 ],
 "metadata": {
  "kernelspec": {
   "display_name": "Python 3 (ipykernel)",
   "language": "python",
   "name": "python3"
  },
  "language_info": {
   "codemirror_mode": {
    "name": "ipython",
    "version": 3
   },
   "file_extension": ".py",
   "mimetype": "text/x-python",
   "name": "python",
   "nbconvert_exporter": "python",
   "pygments_lexer": "ipython3",
   "version": "3.12.7"
  }
 },
 "nbformat": 4,
 "nbformat_minor": 5
}
