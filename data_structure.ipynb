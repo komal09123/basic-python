{
 "cells": [
  {
   "cell_type": "markdown",
   "id": "999f62db-6d20-45cc-8c20-f116fb6200e9",
   "metadata": {},
   "source": [
    "# data structure\n",
    "data structure is container that organize data by type.data structure help make it easier to access and work with data"
   ]
  },
  {
   "cell_type": "markdown",
   "id": "77c3fe08-a065-46be-a557-90d958ef71fe",
   "metadata": {},
   "source": [
    "# list []\n",
    "list writen in a square bracket[].\n",
    "you have to the multiple data set.\n",
    "list is a muteble and changeble."
   ]
  },
  {
   "cell_type": "code",
   "execution_count": 1,
   "id": "d1621b33-8af2-44c2-bddb-b4459f2d1d8c",
   "metadata": {},
   "outputs": [],
   "source": [
    "a = [12,45,67,56,34]"
   ]
  },
  {
   "cell_type": "code",
   "execution_count": 2,
   "id": "013544ee-7f07-4c0e-af78-68cc8de3902b",
   "metadata": {},
   "outputs": [
    {
     "data": {
      "text/plain": [
       "list"
      ]
     },
     "execution_count": 2,
     "metadata": {},
     "output_type": "execute_result"
    }
   ],
   "source": [
    "type(a)"
   ]
  },
  {
   "cell_type": "code",
   "execution_count": 3,
   "id": "ef64b936-a886-49d6-8eca-7a33b9031fd5",
   "metadata": {},
   "outputs": [],
   "source": [
    "mix = [15,4.6,10+5j,'hello',True]"
   ]
  },
  {
   "cell_type": "code",
   "execution_count": 4,
   "id": "fdf08e96-02de-4c97-9025-740e02376411",
   "metadata": {},
   "outputs": [],
   "source": [
    "name = ['komal','sneha','sakshi']"
   ]
  },
  {
   "cell_type": "code",
   "execution_count": 5,
   "id": "28fe9dbd-ced7-4c31-a5f0-fdf732031283",
   "metadata": {},
   "outputs": [
    {
     "data": {
      "text/plain": [
       "['komal', 'sneha', 'sakshi']"
      ]
     },
     "execution_count": 5,
     "metadata": {},
     "output_type": "execute_result"
    }
   ],
   "source": [
    "name"
   ]
  },
  {
   "cell_type": "code",
   "execution_count": 6,
   "id": "2252caae-7120-43c2-ac7f-1674c13875be",
   "metadata": {},
   "outputs": [
    {
     "data": {
      "text/plain": [
       "3"
      ]
     },
     "execution_count": 6,
     "metadata": {},
     "output_type": "execute_result"
    }
   ],
   "source": [
    "len(name)"
   ]
  },
  {
   "cell_type": "markdown",
   "id": "50750acb-5fea-47fa-9dc4-4fe46f4a7326",
   "metadata": {},
   "source": [
    "# nested list\n",
    "it means list inside list"
   ]
  },
  {
   "cell_type": "code",
   "execution_count": 31,
   "id": "3608657f-35e3-4312-8130-624f25b82aac",
   "metadata": {},
   "outputs": [],
   "source": [
    "a = [1,2,3,4,[10,20,30],5,6]"
   ]
  },
  {
   "cell_type": "code",
   "execution_count": 32,
   "id": "eaad4998-f6e4-49f1-b049-7e1e34c7f68e",
   "metadata": {},
   "outputs": [
    {
     "data": {
      "text/plain": [
       "[1, 2, 3, 4, [10, 20, 30], 5, 6]"
      ]
     },
     "execution_count": 32,
     "metadata": {},
     "output_type": "execute_result"
    }
   ],
   "source": [
    "a"
   ]
  },
  {
   "cell_type": "code",
   "execution_count": 33,
   "id": "96c2f198-1c13-407a-946f-a1f064e28837",
   "metadata": {},
   "outputs": [
    {
     "data": {
      "text/plain": [
       "[10, 20, 30]"
      ]
     },
     "execution_count": 33,
     "metadata": {},
     "output_type": "execute_result"
    }
   ],
   "source": [
    "a[4]"
   ]
  },
  {
   "cell_type": "code",
   "execution_count": 34,
   "id": "de3357ff-2abd-4f03-99bd-95ba8cf233b4",
   "metadata": {},
   "outputs": [
    {
     "data": {
      "text/plain": [
       "20"
      ]
     },
     "execution_count": 34,
     "metadata": {},
     "output_type": "execute_result"
    }
   ],
   "source": [
    "a[4][1]"
   ]
  },
  {
   "cell_type": "code",
   "execution_count": null,
   "id": "bee37dbe-bca4-492d-9789-2b190402411c",
   "metadata": {},
   "outputs": [],
   "source": []
  },
  {
   "cell_type": "markdown",
   "id": "7172069b-58a8-45e6-aaa8-7d41a7ca384e",
   "metadata": {},
   "source": [
    "# indexing\n",
    "indexing is going to start with 'zero'"
   ]
  },
  {
   "cell_type": "code",
   "execution_count": 10,
   "id": "405cecb2-3494-4a1b-805b-833ff0c8fb6a",
   "metadata": {},
   "outputs": [],
   "source": [
    "names = ['komal','sneha','sakshi','rutu']"
   ]
  },
  {
   "cell_type": "code",
   "execution_count": 11,
   "id": "12d4fc3d-aa6b-4b81-9c0c-8bdcb5b4929b",
   "metadata": {},
   "outputs": [
    {
     "data": {
      "text/plain": [
       "['komal', 'sneha', 'sakshi', 'rutu']"
      ]
     },
     "execution_count": 11,
     "metadata": {},
     "output_type": "execute_result"
    }
   ],
   "source": [
    "names"
   ]
  },
  {
   "cell_type": "code",
   "execution_count": 12,
   "id": "72d7c440-5edd-41b6-b989-db518c973603",
   "metadata": {},
   "outputs": [
    {
     "data": {
      "text/plain": [
       "'komal'"
      ]
     },
     "execution_count": 12,
     "metadata": {},
     "output_type": "execute_result"
    }
   ],
   "source": [
    "names[0]"
   ]
  },
  {
   "cell_type": "code",
   "execution_count": 13,
   "id": "59b03bee-3542-4a48-ae00-7d2ce415fdb0",
   "metadata": {},
   "outputs": [
    {
     "data": {
      "text/plain": [
       "'sneha'"
      ]
     },
     "execution_count": 13,
     "metadata": {},
     "output_type": "execute_result"
    }
   ],
   "source": [
    "names[1]"
   ]
  },
  {
   "cell_type": "code",
   "execution_count": 14,
   "id": "858aed9f-8be2-45b9-bdb7-8c59408e039b",
   "metadata": {},
   "outputs": [
    {
     "data": {
      "text/plain": [
       "'sakshi'"
      ]
     },
     "execution_count": 14,
     "metadata": {},
     "output_type": "execute_result"
    }
   ],
   "source": [
    "names[2]"
   ]
  },
  {
   "cell_type": "code",
   "execution_count": 15,
   "id": "016fc9d1-092c-4ae2-b0ae-25be622d0594",
   "metadata": {},
   "outputs": [
    {
     "data": {
      "text/plain": [
       "'rutu'"
      ]
     },
     "execution_count": 15,
     "metadata": {},
     "output_type": "execute_result"
    }
   ],
   "source": [
    "names[3]"
   ]
  },
  {
   "cell_type": "code",
   "execution_count": 16,
   "id": "63e9e903-7d9b-4843-8717-d866d8d6c848",
   "metadata": {},
   "outputs": [
    {
     "data": {
      "text/plain": [
       "'sakshi'"
      ]
     },
     "execution_count": 16,
     "metadata": {},
     "output_type": "execute_result"
    }
   ],
   "source": [
    "names[-2]"
   ]
  },
  {
   "cell_type": "code",
   "execution_count": 17,
   "id": "86212ad0-6817-4232-9335-c064407f8b10",
   "metadata": {},
   "outputs": [
    {
     "data": {
      "text/plain": [
       "['komal', 'sneha', 'sakshi']"
      ]
     },
     "execution_count": 17,
     "metadata": {},
     "output_type": "execute_result"
    }
   ],
   "source": [
    "names[0:3]"
   ]
  },
  {
   "cell_type": "code",
   "execution_count": 18,
   "id": "7a952adf-0adb-45b0-b0a0-f313b5d48f5a",
   "metadata": {},
   "outputs": [
    {
     "data": {
      "text/plain": [
       "['komal', 'sneha', 'sakshi', 'rutu']"
      ]
     },
     "execution_count": 18,
     "metadata": {},
     "output_type": "execute_result"
    }
   ],
   "source": [
    "names[:]"
   ]
  },
  {
   "cell_type": "code",
   "execution_count": 20,
   "id": "ef590333-b685-4c56-ada6-b24a41604d37",
   "metadata": {},
   "outputs": [
    {
     "data": {
      "text/plain": [
       "['komal', 'sakshi']"
      ]
     },
     "execution_count": 20,
     "metadata": {},
     "output_type": "execute_result"
    }
   ],
   "source": [
    "names[0:4:2]"
   ]
  },
  {
   "cell_type": "code",
   "execution_count": 26,
   "id": "75c49c26-145a-4a18-a466-f1a2ce0ac505",
   "metadata": {},
   "outputs": [
    {
     "data": {
      "text/plain": [
       "['komal', 'sneha', 'sakshi', 'rutu']"
      ]
     },
     "execution_count": 26,
     "metadata": {},
     "output_type": "execute_result"
    }
   ],
   "source": [
    "names"
   ]
  },
  {
   "cell_type": "code",
   "execution_count": 30,
   "id": "be118672-8767-4b0f-b15c-4fffe0a8fb28",
   "metadata": {},
   "outputs": [],
   "source": [
    "names[0] = 'raj'  # for the changing data"
   ]
  },
  {
   "cell_type": "code",
   "execution_count": 29,
   "id": "adf2964c-8e71-46dd-b5ad-6049105a1c13",
   "metadata": {},
   "outputs": [
    {
     "data": {
      "text/plain": [
       "['raj', 'sneha', 'sakshi', 'rutu']"
      ]
     },
     "execution_count": 29,
     "metadata": {},
     "output_type": "execute_result"
    }
   ],
   "source": [
    "names"
   ]
  },
  {
   "cell_type": "code",
   "execution_count": 27,
   "id": "1906e2ec-aa1f-457d-b94c-afe701b9a353",
   "metadata": {},
   "outputs": [],
   "source": [
    "x = [1,2,3,4,5,6,7,8]"
   ]
  },
  {
   "cell_type": "code",
   "execution_count": 22,
   "id": "50ac4c37-4e6d-4d6d-99a2-336a473bae01",
   "metadata": {},
   "outputs": [
    {
     "data": {
      "text/plain": [
       "[1, 2, 3, 4, 5, 6, 7, 8]"
      ]
     },
     "execution_count": 22,
     "metadata": {},
     "output_type": "execute_result"
    }
   ],
   "source": [
    "x"
   ]
  },
  {
   "cell_type": "code",
   "execution_count": 23,
   "id": "3ba30317-e472-4ade-9092-27d9a0375f6c",
   "metadata": {},
   "outputs": [
    {
     "data": {
      "text/plain": [
       "[1, 2, 3]"
      ]
     },
     "execution_count": 23,
     "metadata": {},
     "output_type": "execute_result"
    }
   ],
   "source": [
    "x[0:3]  # for the particular dataset"
   ]
  },
  {
   "cell_type": "code",
   "execution_count": 24,
   "id": "3ecbcef8-7b1f-475f-9e6f-c57c15e77825",
   "metadata": {},
   "outputs": [
    {
     "data": {
      "text/plain": [
       "[1, 4, 7]"
      ]
     },
     "execution_count": 24,
     "metadata": {},
     "output_type": "execute_result"
    }
   ],
   "source": [
    "x[::3]  # for the jump size"
   ]
  },
  {
   "cell_type": "code",
   "execution_count": 25,
   "id": "72f500d9-9124-492b-b9e1-d3cc9d9a159c",
   "metadata": {},
   "outputs": [
    {
     "data": {
      "text/plain": [
       "[8, 7, 6, 5, 4, 3, 2, 1]"
      ]
     },
     "execution_count": 25,
     "metadata": {},
     "output_type": "execute_result"
    }
   ],
   "source": [
    "x[-1::-1] # for the reverse data"
   ]
  },
  {
   "cell_type": "markdown",
   "id": "fb71fc6f-bee5-4b0a-a59b-9831817ec36f",
   "metadata": {},
   "source": [
    "# function related to list "
   ]
  },
  {
   "cell_type": "raw",
   "id": "422fb19d-ba14-44e2-81ac-4cba781c1d4f",
   "metadata": {},
   "source": [
    "# append\n",
    "append is going to add the data set as it is"
   ]
  },
  {
   "cell_type": "code",
   "execution_count": 35,
   "id": "e799d203-08d3-4c4b-bfee-1c2eca37d21e",
   "metadata": {},
   "outputs": [],
   "source": [
    "x.append(100)"
   ]
  },
  {
   "cell_type": "code",
   "execution_count": 36,
   "id": "4328eb3b-c8fe-47b5-992f-09cbb2d55caa",
   "metadata": {},
   "outputs": [
    {
     "data": {
      "text/plain": [
       "[1, 2, 3, 4, 5, 6, 7, 8, 100]"
      ]
     },
     "execution_count": 36,
     "metadata": {},
     "output_type": "execute_result"
    }
   ],
   "source": [
    "x"
   ]
  },
  {
   "cell_type": "raw",
   "id": "f7c0b0cb-4ef7-4b12-8d98-616cd32bf490",
   "metadata": {},
   "source": [
    "# extend\n",
    "extend is going to add the data set separetly"
   ]
  },
  {
   "cell_type": "code",
   "execution_count": 37,
   "id": "c1d3e3ef-805a-41ed-a00c-268668497cf9",
   "metadata": {},
   "outputs": [],
   "source": [
    "x.extend([10,20,30])"
   ]
  },
  {
   "cell_type": "code",
   "execution_count": 38,
   "id": "cd790142-d663-4cab-9862-15b26f82bdc6",
   "metadata": {},
   "outputs": [
    {
     "data": {
      "text/plain": [
       "[1, 2, 3, 4, 5, 6, 7, 8, 100, 10, 20, 30]"
      ]
     },
     "execution_count": 38,
     "metadata": {},
     "output_type": "execute_result"
    }
   ],
   "source": [
    "x"
   ]
  },
  {
   "cell_type": "code",
   "execution_count": 45,
   "id": "6d9f1c61-77e6-4cd5-a1a8-6edad20a0dd6",
   "metadata": {},
   "outputs": [],
   "source": [
    "s = [1,2,3,4,5,6,6,7,7,7,8,9,10]"
   ]
  },
  {
   "cell_type": "code",
   "execution_count": 46,
   "id": "c9115612-563e-4ab8-9e0a-b2f997d36c62",
   "metadata": {},
   "outputs": [
    {
     "data": {
      "text/plain": [
       "2"
      ]
     },
     "execution_count": 46,
     "metadata": {},
     "output_type": "execute_result"
    }
   ],
   "source": [
    "s.count(6)"
   ]
  },
  {
   "cell_type": "code",
   "execution_count": 47,
   "id": "47ab8616-2fd0-455d-8276-0efab2de0ef9",
   "metadata": {},
   "outputs": [
    {
     "data": {
      "text/plain": [
       "3"
      ]
     },
     "execution_count": 47,
     "metadata": {},
     "output_type": "execute_result"
    }
   ],
   "source": [
    "s.count(7)"
   ]
  },
  {
   "cell_type": "code",
   "execution_count": 52,
   "id": "5d5cad91-1ebd-4467-94b5-f09329675ff1",
   "metadata": {},
   "outputs": [],
   "source": [
    "s.insert(10,20)"
   ]
  },
  {
   "cell_type": "code",
   "execution_count": 55,
   "id": "3ae8adfc-9fd9-4080-81b3-a678d10fb54c",
   "metadata": {},
   "outputs": [
    {
     "data": {
      "text/plain": [
       "[1, 2, 3, 4, 5, 6, 6, 7, 7, 7, 20, 8, 9, 10]"
      ]
     },
     "execution_count": 55,
     "metadata": {},
     "output_type": "execute_result"
    }
   ],
   "source": [
    "s"
   ]
  },
  {
   "cell_type": "code",
   "execution_count": 59,
   "id": "3da8cef7-2a86-4de4-b59b-c422cc6e53ae",
   "metadata": {},
   "outputs": [
    {
     "data": {
      "text/plain": [
       "0"
      ]
     },
     "execution_count": 59,
     "metadata": {},
     "output_type": "execute_result"
    }
   ],
   "source": [
    "s.index(1)"
   ]
  },
  {
   "cell_type": "code",
   "execution_count": 61,
   "id": "2419ee79-76dd-4640-b1a7-a1ac67275b26",
   "metadata": {},
   "outputs": [],
   "source": [
    "s.remove(7)  # for the remove data"
   ]
  },
  {
   "cell_type": "code",
   "execution_count": 62,
   "id": "26a57fa5-43c6-41c6-9213-ae7af10ef1a7",
   "metadata": {},
   "outputs": [
    {
     "data": {
      "text/plain": [
       "[1, 2, 3, 4, 5, 6, 6, 7, 7, 20, 8, 9, 10]"
      ]
     },
     "execution_count": 62,
     "metadata": {},
     "output_type": "execute_result"
    }
   ],
   "source": [
    "s"
   ]
  },
  {
   "cell_type": "code",
   "execution_count": 63,
   "id": "a4f07b02-23e9-4c50-8ded-5d8baebc6874",
   "metadata": {},
   "outputs": [
    {
     "data": {
      "text/plain": [
       "10"
      ]
     },
     "execution_count": 63,
     "metadata": {},
     "output_type": "execute_result"
    }
   ],
   "source": [
    "s.pop()   # bydefault remove the last data"
   ]
  },
  {
   "cell_type": "code",
   "execution_count": 64,
   "id": "cad7a52b-9c80-4edd-a36d-185fbc98bcf5",
   "metadata": {},
   "outputs": [
    {
     "data": {
      "text/plain": [
       "[1, 2, 3, 4, 5, 6, 6, 7, 7, 20, 8, 9]"
      ]
     },
     "execution_count": 64,
     "metadata": {},
     "output_type": "execute_result"
    }
   ],
   "source": [
    "s"
   ]
  },
  {
   "cell_type": "code",
   "execution_count": 67,
   "id": "5925feca-8d4e-47f1-acbf-0a49dbd118a3",
   "metadata": {},
   "outputs": [],
   "source": [
    "s.reverse()  # for the reverse data"
   ]
  },
  {
   "cell_type": "code",
   "execution_count": 68,
   "id": "e08c17c6-3f85-439b-877c-69977c41642b",
   "metadata": {},
   "outputs": [
    {
     "data": {
      "text/plain": [
       "[1, 2, 3, 4, 5, 6, 6, 7, 7, 20, 8, 9]"
      ]
     },
     "execution_count": 68,
     "metadata": {},
     "output_type": "execute_result"
    }
   ],
   "source": [
    "s"
   ]
  },
  {
   "cell_type": "code",
   "execution_count": 70,
   "id": "07ea0a95-606a-4148-8a7d-c04305b39300",
   "metadata": {},
   "outputs": [],
   "source": [
    "s.sort()"
   ]
  },
  {
   "cell_type": "code",
   "execution_count": 71,
   "id": "df4efd1e-307d-4724-8037-d03d7439055d",
   "metadata": {},
   "outputs": [
    {
     "data": {
      "text/plain": [
       "[1, 2, 3, 4, 5, 6, 6, 7, 7, 8, 9, 20]"
      ]
     },
     "execution_count": 71,
     "metadata": {},
     "output_type": "execute_result"
    }
   ],
   "source": [
    "s"
   ]
  },
  {
   "cell_type": "markdown",
   "id": "cb348211-0929-43d2-9571-5b767bc8fe91",
   "metadata": {},
   "source": [
    "# Tuple\n",
    "Tuple is written in paranthesis ()\n",
    "Tuple is inmutable and unchangeble\n",
    "Tuple is store less memory and \n",
    "one time you have to declare the tuple data then you cant change it"
   ]
  },
  {
   "cell_type": "code",
   "execution_count": 1,
   "id": "2cab978e-1810-4bad-92ea-24d895ecc610",
   "metadata": {},
   "outputs": [],
   "source": [
    "s = (8,2,6,'Hello',True)"
   ]
  },
  {
   "cell_type": "code",
   "execution_count": 2,
   "id": "a39bd7f0-b054-4963-af47-82f8af12d2de",
   "metadata": {},
   "outputs": [
    {
     "data": {
      "text/plain": [
       "(8, 2, 6, 'Hello', True)"
      ]
     },
     "execution_count": 2,
     "metadata": {},
     "output_type": "execute_result"
    }
   ],
   "source": [
    "s"
   ]
  },
  {
   "cell_type": "code",
   "execution_count": 3,
   "id": "dbbf5546-8c7a-4af2-824c-3f98da082a3e",
   "metadata": {},
   "outputs": [
    {
     "name": "stdout",
     "output_type": "stream",
     "text": [
      "(2, 4, 5)\n",
      "(8, 10)\n",
      "(7, 8, 10)\n",
      "(5, 7, 8)\n"
     ]
    }
   ],
   "source": [
    "num_tuple = 2,4,5,7,8,10\n",
    "print(num_tuple[:3])\n",
    "print(num_tuple[4:])\n",
    "print(num_tuple[-3:])\n",
    "print(num_tuple[2:5])"
   ]
  },
  {
   "cell_type": "code",
   "execution_count": 4,
   "id": "a259465e-62d0-4838-bf3f-0d1e4f5e67d4",
   "metadata": {},
   "outputs": [
    {
     "name": "stdout",
     "output_type": "stream",
     "text": [
      "(1, 2, 3, 4)\n"
     ]
    }
   ],
   "source": [
    "tuple_1 = (1,2)\n",
    "tuple_2 = (3,4)\n",
    "print(tuple_1 + tuple_2)"
   ]
  },
  {
   "cell_type": "code",
   "execution_count": 5,
   "id": "c37f8e4e-8c0c-4dc2-970a-298c9f3db820",
   "metadata": {},
   "outputs": [
    {
     "name": "stdout",
     "output_type": "stream",
     "text": [
      "(1, 7, 9, 8, 1, 7, 9, 8)\n"
     ]
    }
   ],
   "source": [
    "my_tuple = (1,7,9,8)\n",
    "print(my_tuple * 2)"
   ]
  },
  {
   "cell_type": "markdown",
   "id": "d7a14bfc-79d8-41e7-8b06-369de97d5f8d",
   "metadata": {},
   "source": [
    "# set {}\n",
    "set is written in curly bracket{}.\n",
    "set not allowed any duplicate values."
   ]
  },
  {
   "cell_type": "code",
   "execution_count": 52,
   "id": "ce746492-f110-44b4-9d7a-87e1d8077f8d",
   "metadata": {},
   "outputs": [],
   "source": [
    "a = {1,1,1,2,3,4,5}"
   ]
  },
  {
   "cell_type": "code",
   "execution_count": 53,
   "id": "e20330ec-e975-444c-b2e6-6fc099f98953",
   "metadata": {},
   "outputs": [
    {
     "data": {
      "text/plain": [
       "{1, 2, 3, 4, 5}"
      ]
     },
     "execution_count": 53,
     "metadata": {},
     "output_type": "execute_result"
    }
   ],
   "source": [
    "a"
   ]
  },
  {
   "cell_type": "code",
   "execution_count": 54,
   "id": "f8d5429f-fa8f-4b55-86db-3eeff61a6fb3",
   "metadata": {},
   "outputs": [],
   "source": [
    "b = {1,2,3,4,}\n",
    "c = {4,5,6,7}"
   ]
  },
  {
   "cell_type": "code",
   "execution_count": 55,
   "id": "e86217ca-952a-4d96-b7b6-4af354ecf304",
   "metadata": {},
   "outputs": [
    {
     "data": {
      "text/plain": [
       "{1, 2, 3, 4, 5, 6, 7}"
      ]
     },
     "execution_count": 55,
     "metadata": {},
     "output_type": "execute_result"
    }
   ],
   "source": [
    "b.union(c)"
   ]
  },
  {
   "cell_type": "code",
   "execution_count": 56,
   "id": "c090c85d-40eb-45b0-9304-678324af1fa9",
   "metadata": {},
   "outputs": [
    {
     "data": {
      "text/plain": [
       "{4}"
      ]
     },
     "execution_count": 56,
     "metadata": {},
     "output_type": "execute_result"
    }
   ],
   "source": [
    "b.intersection(c)"
   ]
  },
  {
   "cell_type": "markdown",
   "id": "84d0f692-1fb2-42a7-98ae-f4ed97b0e0c5",
   "metadata": {},
   "source": [
    "# dectionary\n",
    "dictionary is written in curly bracket {} and also dictionary written in key and values format."
   ]
  },
  {
   "cell_type": "code",
   "execution_count": 1,
   "id": "80d418d1-ed1f-4d82-9a58-fbbd40b1e645",
   "metadata": {},
   "outputs": [],
   "source": [
    "d = {'a':10,'B':20,'c':30}"
   ]
  },
  {
   "cell_type": "code",
   "execution_count": 3,
   "id": "9b594f87-0144-4416-ba85-22ecbe6e626e",
   "metadata": {},
   "outputs": [
    {
     "data": {
      "text/plain": [
       "dict_values([10, 20, 30])"
      ]
     },
     "execution_count": 3,
     "metadata": {},
     "output_type": "execute_result"
    }
   ],
   "source": [
    "d.values()"
   ]
  },
  {
   "cell_type": "code",
   "execution_count": 4,
   "id": "a1f4f71e-2822-47bf-872d-1a81726c1b6d",
   "metadata": {},
   "outputs": [
    {
     "data": {
      "text/plain": [
       "dict_keys(['a', 'B', 'c'])"
      ]
     },
     "execution_count": 4,
     "metadata": {},
     "output_type": "execute_result"
    }
   ],
   "source": [
    "d.keys()"
   ]
  },
  {
   "cell_type": "code",
   "execution_count": 6,
   "id": "28a0e827-ccf5-42b8-a306-1801f7395833",
   "metadata": {},
   "outputs": [],
   "source": [
    "d['E']=40"
   ]
  },
  {
   "cell_type": "code",
   "execution_count": 7,
   "id": "d96f504c-95b1-44d9-a9e1-838cfdfa0282",
   "metadata": {},
   "outputs": [
    {
     "data": {
      "text/plain": [
       "{'a': 10, 'B': 20, 'c': 30, 'E': 40}"
      ]
     },
     "execution_count": 7,
     "metadata": {},
     "output_type": "execute_result"
    }
   ],
   "source": [
    "d"
   ]
  },
  {
   "cell_type": "code",
   "execution_count": null,
   "id": "5acb4525-d095-45d3-9ef6-ddb073825154",
   "metadata": {},
   "outputs": [],
   "source": []
  }
 ],
 "metadata": {
  "kernelspec": {
   "display_name": "Python 3 (ipykernel)",
   "language": "python",
   "name": "python3"
  },
  "language_info": {
   "codemirror_mode": {
    "name": "ipython",
    "version": 3
   },
   "file_extension": ".py",
   "mimetype": "text/x-python",
   "name": "python",
   "nbconvert_exporter": "python",
   "pygments_lexer": "ipython3",
   "version": "3.12.7"
  }
 },
 "nbformat": 4,
 "nbformat_minor": 5
}
