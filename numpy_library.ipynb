{
 "cells": [
  {
   "cell_type": "code",
   "execution_count": 1,
   "id": "ccbd15fc-f8ca-4e8a-a14c-24a26d3c36f2",
   "metadata": {},
   "outputs": [
    {
     "name": "stdout",
     "output_type": "stream",
     "text": [
      "Requirement already satisfied: numpy in c:\\users\\komal\\anaconda3\\lib\\site-packages (1.26.4)\n",
      "Note: you may need to restart the kernel to use updated packages.\n"
     ]
    }
   ],
   "source": [
    "pip install numpy"
   ]
  },
  {
   "cell_type": "code",
   "execution_count": 2,
   "id": "0233c5b8-449c-4437-8f1a-74aa3eab4887",
   "metadata": {},
   "outputs": [],
   "source": [
    "import numpy as np"
   ]
  },
  {
   "cell_type": "code",
   "execution_count": 3,
   "id": "9d7b32de-3241-4b24-a8b0-6cd96f2a3d38",
   "metadata": {},
   "outputs": [
    {
     "data": {
      "text/plain": [
       "128.0"
      ]
     },
     "execution_count": 3,
     "metadata": {},
     "output_type": "execute_result"
    }
   ],
   "source": [
    "np.mean([73,432,53,78,4])"
   ]
  },
  {
   "cell_type": "code",
   "execution_count": 4,
   "id": "3fef843f-c589-496c-9dcc-b7b355573085",
   "metadata": {},
   "outputs": [
    {
     "data": {
      "text/plain": [
       "73.0"
      ]
     },
     "execution_count": 4,
     "metadata": {},
     "output_type": "execute_result"
    }
   ],
   "source": [
    "np.median([73,432,53,78,4])"
   ]
  },
  {
   "cell_type": "code",
   "execution_count": 5,
   "id": "d58ef1dd-a298-42ea-b68c-083f55f732a3",
   "metadata": {},
   "outputs": [
    {
     "data": {
      "text/plain": [
       "128.0"
      ]
     },
     "execution_count": 5,
     "metadata": {},
     "output_type": "execute_result"
    }
   ],
   "source": [
    "np.average([73,432,53,78,4])"
   ]
  },
  {
   "cell_type": "code",
   "execution_count": 6,
   "id": "72badafa-d344-4024-9593-bd12a5533890",
   "metadata": {},
   "outputs": [],
   "source": [
    "l = [1,2,3,4,5]"
   ]
  },
  {
   "cell_type": "code",
   "execution_count": 7,
   "id": "bb008062-79db-4a27-a806-6903a1598b39",
   "metadata": {},
   "outputs": [],
   "source": [
    "d_1 = np.array(l)"
   ]
  },
  {
   "cell_type": "code",
   "execution_count": 8,
   "id": "afea08ae-92ae-4840-a36a-a6f391696d12",
   "metadata": {},
   "outputs": [
    {
     "data": {
      "text/plain": [
       "array([1, 2, 3, 4, 5])"
      ]
     },
     "execution_count": 8,
     "metadata": {},
     "output_type": "execute_result"
    }
   ],
   "source": [
    "d_1"
   ]
  },
  {
   "cell_type": "code",
   "execution_count": 9,
   "id": "469fe674-8387-41de-8bf9-d6ff5d87efa4",
   "metadata": {},
   "outputs": [
    {
     "data": {
      "text/plain": [
       "1"
      ]
     },
     "execution_count": 9,
     "metadata": {},
     "output_type": "execute_result"
    }
   ],
   "source": [
    "d_1.ndim #Direction"
   ]
  },
  {
   "cell_type": "code",
   "execution_count": 10,
   "id": "6663c608-4684-4169-938c-73f8bd5ead19",
   "metadata": {},
   "outputs": [],
   "source": [
    "d_2 = np.array([[1,2,3,4,5],[10,20,30,40,50]])"
   ]
  },
  {
   "cell_type": "code",
   "execution_count": 11,
   "id": "903bcb15-3879-49ea-90da-f85ad10ffa93",
   "metadata": {},
   "outputs": [
    {
     "data": {
      "text/plain": [
       "array([[ 1,  2,  3,  4,  5],\n",
       "       [10, 20, 30, 40, 50]])"
      ]
     },
     "execution_count": 11,
     "metadata": {},
     "output_type": "execute_result"
    }
   ],
   "source": [
    "d_2"
   ]
  },
  {
   "cell_type": "code",
   "execution_count": 12,
   "id": "4b4859fa-b50f-4bda-9ea0-93121ab2bd21",
   "metadata": {},
   "outputs": [
    {
     "data": {
      "text/plain": [
       "array([['1', '2', '3', '4', '5'],\n",
       "       ['10', '20', '30', '40', '50'],\n",
       "       ['A', 'B', 'C', 'D', 'E']], dtype='<U11')"
      ]
     },
     "execution_count": 12,
     "metadata": {},
     "output_type": "execute_result"
    }
   ],
   "source": [
    "np.array([[1,2,3,4,5],[10,20,30,40,50],['A','B','C','D','E']])"
   ]
  },
  {
   "cell_type": "code",
   "execution_count": 13,
   "id": "b1e225b8-55da-4a35-abee-961b484951e1",
   "metadata": {},
   "outputs": [
    {
     "data": {
      "text/plain": [
       "2"
      ]
     },
     "execution_count": 13,
     "metadata": {},
     "output_type": "execute_result"
    }
   ],
   "source": [
    "d_2.ndim"
   ]
  },
  {
   "cell_type": "code",
   "execution_count": 14,
   "id": "8d41851e-7c11-4d84-a861-5010d2bca26c",
   "metadata": {},
   "outputs": [],
   "source": [
    "d_3 = np.array([[[1,2,3,4,5],[10,20,30,40,50],['A','B','C','D','E']]])"
   ]
  },
  {
   "cell_type": "code",
   "execution_count": 15,
   "id": "81a3b743-b37a-4bba-b468-230ea1330950",
   "metadata": {},
   "outputs": [
    {
     "data": {
      "text/plain": [
       "array([[['1', '2', '3', '4', '5'],\n",
       "        ['10', '20', '30', '40', '50'],\n",
       "        ['A', 'B', 'C', 'D', 'E']]], dtype='<U11')"
      ]
     },
     "execution_count": 15,
     "metadata": {},
     "output_type": "execute_result"
    }
   ],
   "source": [
    "d_3"
   ]
  },
  {
   "cell_type": "code",
   "execution_count": 16,
   "id": "f3274038-c7e3-4b21-8f09-cd4a2a1d9718",
   "metadata": {},
   "outputs": [
    {
     "data": {
      "text/plain": [
       "3"
      ]
     },
     "execution_count": 16,
     "metadata": {},
     "output_type": "execute_result"
    }
   ],
   "source": [
    "d_3.ndim"
   ]
  },
  {
   "cell_type": "code",
   "execution_count": 17,
   "id": "7fb3bdd3-0ab1-4dfd-b20d-cd8421fab8ba",
   "metadata": {},
   "outputs": [
    {
     "data": {
      "text/plain": [
       "array([1, 2, 3, 4, 5])"
      ]
     },
     "execution_count": 17,
     "metadata": {},
     "output_type": "execute_result"
    }
   ],
   "source": [
    "d_1"
   ]
  },
  {
   "cell_type": "code",
   "execution_count": 18,
   "id": "ccbdadeb-32dc-4af6-ac4f-16e4bcbb576c",
   "metadata": {},
   "outputs": [
    {
     "data": {
      "text/plain": [
       "1"
      ]
     },
     "execution_count": 18,
     "metadata": {},
     "output_type": "execute_result"
    }
   ],
   "source": [
    "d_1[0]"
   ]
  },
  {
   "cell_type": "code",
   "execution_count": 19,
   "id": "e84a48bc-1312-40c2-9ea9-fec56ad9d810",
   "metadata": {},
   "outputs": [
    {
     "data": {
      "text/plain": [
       "array([16, 15, 10, 10, 16])"
      ]
     },
     "execution_count": 19,
     "metadata": {},
     "output_type": "execute_result"
    }
   ],
   "source": [
    "np.random.randint(10,20,5)"
   ]
  },
  {
   "cell_type": "code",
   "execution_count": 20,
   "id": "2de41199-1efc-4dec-852b-362bb337bd04",
   "metadata": {},
   "outputs": [
    {
     "data": {
      "text/plain": [
       "array([2, 1, 2, 4, 2, 2, 1, 3, 4, 1])"
      ]
     },
     "execution_count": 20,
     "metadata": {},
     "output_type": "execute_result"
    }
   ],
   "source": [
    "np.random.randint(1,5,10)"
   ]
  },
  {
   "cell_type": "code",
   "execution_count": 21,
   "id": "2a9ca243-a2e3-4b26-8905-3ef6b5166d80",
   "metadata": {},
   "outputs": [
    {
     "data": {
      "text/plain": [
       "array([0.76818468, 0.85973115, 0.33462411, 0.48405772])"
      ]
     },
     "execution_count": 21,
     "metadata": {},
     "output_type": "execute_result"
    }
   ],
   "source": [
    "np.random.random(4)"
   ]
  },
  {
   "cell_type": "code",
   "execution_count": 22,
   "id": "9ec11303-1254-4b81-b47b-d19b947abe81",
   "metadata": {},
   "outputs": [
    {
     "data": {
      "text/plain": [
       "array([[0.0787218 , 0.64887237],\n",
       "       [0.88046574, 0.42725169],\n",
       "       [0.04729948, 0.50405769]])"
      ]
     },
     "execution_count": 22,
     "metadata": {},
     "output_type": "execute_result"
    }
   ],
   "source": [
    "np.random.rand(3,2)"
   ]
  },
  {
   "cell_type": "code",
   "execution_count": 23,
   "id": "0fe0e9f1-8f25-4438-9dae-56e2d25592d6",
   "metadata": {},
   "outputs": [
    {
     "data": {
      "text/plain": [
       "array([[0.30052078, 0.46174907]])"
      ]
     },
     "execution_count": 23,
     "metadata": {},
     "output_type": "execute_result"
    }
   ],
   "source": [
    "np.random.rand(1,2)"
   ]
  },
  {
   "cell_type": "code",
   "execution_count": 24,
   "id": "68e122c8-2aa7-4689-8983-ad2b7b453ef1",
   "metadata": {},
   "outputs": [
    {
     "data": {
      "text/plain": [
       "array([[0.491598  , 0.64601784, 0.96408249],\n",
       "       [0.15320077, 0.32929584, 0.63082066],\n",
       "       [0.3458477 , 0.54494134, 0.51417903]])"
      ]
     },
     "execution_count": 24,
     "metadata": {},
     "output_type": "execute_result"
    }
   ],
   "source": [
    "np.random.rand(3,3)"
   ]
  },
  {
   "cell_type": "code",
   "execution_count": null,
   "id": "87c51918-5507-4a81-b7db-9004619f7804",
   "metadata": {},
   "outputs": [],
   "source": []
  }
 ],
 "metadata": {
  "kernelspec": {
   "display_name": "Python 3 (ipykernel)",
   "language": "python",
   "name": "python3"
  },
  "language_info": {
   "codemirror_mode": {
    "name": "ipython",
    "version": 3
   },
   "file_extension": ".py",
   "mimetype": "text/x-python",
   "name": "python",
   "nbconvert_exporter": "python",
   "pygments_lexer": "ipython3",
   "version": "3.12.7"
  }
 },
 "nbformat": 4,
 "nbformat_minor": 5
}
