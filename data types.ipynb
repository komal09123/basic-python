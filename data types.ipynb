{
 "cells": [
  {
   "cell_type": "markdown",
   "id": "f746ed3b-6688-4587-91e4-052e3072cbfb",
   "metadata": {},
   "source": [
    "# Intiger()\n",
    "integer is the complete number.\n"
   ]
  },
  {
   "cell_type": "raw",
   "id": "dbc3985d-b903-4fe0-b1b2-94985a19a6de",
   "metadata": {},
   "source": [
    "ex\n",
    "# how many family members you have?\n",
    "ans:4,7,8\n",
    "# bank account you have?\n",
    "ans:1,2,3\n",
    "integer only counts the complete number"
   ]
  },
  {
   "cell_type": "markdown",
   "id": "5afb1268-a690-4c20-a9c9-344926e82e95",
   "metadata": {},
   "source": [
    "# float\n",
    " float is a floating point number"
   ]
  },
  {
   "cell_type": "raw",
   "id": "ca54b890-8821-4357-a720-82a096b84328",
   "metadata": {},
   "source": [
    "ex\n",
    "# height\n",
    "ans:6.4,3.8\n",
    "# wehight\n",
    "ans:50.312 kg"
   ]
  },
  {
   "cell_type": "markdown",
   "id": "5c32b7b2-85da-4b7b-bbb2-6fc664600fab",
   "metadata": {},
   "source": [
    "# complex number\n",
    "complex refer to a data type representing a complex number, which is a mathematical number composed of a real part and imaginary part"
   ]
  },
  {
   "cell_type": "raw",
   "id": "1ee3c02d-b57d-4b76-a64a-10210a25c8c0",
   "metadata": {},
   "source": [
    "ex\n",
    "# 10 + 5j\n",
    "ans: (10+5j)\n",
    "type of complex"
   ]
  },
  {
   "cell_type": "markdown",
   "id": "40055b26-f7cd-4a23-81db-61729950e27f",
   "metadata": {},
   "source": [
    "# string\n",
    "string are used for repesenting textual data"
   ]
  },
  {
   "cell_type": "code",
   "execution_count": 2,
   "id": "b3a936e2-09b1-4755-99f3-d76c990acff9",
   "metadata": {},
   "outputs": [
    {
     "data": {
      "text/plain": [
       "'hello'"
      ]
     },
     "execution_count": 2,
     "metadata": {},
     "output_type": "execute_result"
    }
   ],
   "source": [
    "\"hello\""
   ]
  },
  {
   "cell_type": "markdown",
   "id": "90a87833-8894-4c27-b3a8-7f88cbe66632",
   "metadata": {},
   "source": [
    "# Boolean values\n",
    "boolean is data type that can have one of two possible values true or false"
   ]
  },
  {
   "cell_type": "code",
   "execution_count": 3,
   "id": "bafec106-d457-429e-b208-b9fba8ec9054",
   "metadata": {},
   "outputs": [
    {
     "data": {
      "text/plain": [
       "False"
      ]
     },
     "execution_count": 3,
     "metadata": {},
     "output_type": "execute_result"
    }
   ],
   "source": [
    "20>30"
   ]
  },
  {
   "cell_type": "code",
   "execution_count": 4,
   "id": "678d5ec0-824c-4265-961c-0ed436f0c4e6",
   "metadata": {},
   "outputs": [
    {
     "data": {
      "text/plain": [
       "True"
      ]
     },
     "execution_count": 4,
     "metadata": {},
     "output_type": "execute_result"
    }
   ],
   "source": [
    "400>50"
   ]
  },
  {
   "cell_type": "code",
   "execution_count": null,
   "id": "09872815-9cac-4774-b1cf-44d4fbfce174",
   "metadata": {},
   "outputs": [],
   "source": []
  }
 ],
 "metadata": {
  "kernelspec": {
   "display_name": "Python 3 (ipykernel)",
   "language": "python",
   "name": "python3"
  },
  "language_info": {
   "codemirror_mode": {
    "name": "ipython",
    "version": 3
   },
   "file_extension": ".py",
   "mimetype": "text/x-python",
   "name": "python",
   "nbconvert_exporter": "python",
   "pygments_lexer": "ipython3",
   "version": "3.12.7"
  }
 },
 "nbformat": 4,
 "nbformat_minor": 5
}
