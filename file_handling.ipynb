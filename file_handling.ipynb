{
 "cells": [
  {
   "cell_type": "code",
   "execution_count": 30,
   "id": "b7a42a38-27f3-493d-8d66-7a1b5a28f3f0",
   "metadata": {},
   "outputs": [
    {
     "name": "stdout",
     "output_type": "stream",
     "text": [
      " Volume in drive C is Windows\n",
      " Volume Serial Number is EA37-06AE\n",
      "\n",
      " Directory of C:\\Users\\KOMAL\\Downloads\\code gemini\\python\\basic\n",
      "\n",
      "27-03-2025  14:48    <DIR>          .\n",
      "18-03-2025  13:06    <DIR>          ..\n",
      "27-03-2025  14:36    <DIR>          .ipynb_checkpoints\n",
      "21-03-2025  10:20             5,537 conditional_statement.ipynb\n",
      "18-03-2025  12:58             3,444 data types.ipynb\n",
      "20-03-2025  21:00            22,267 data_structure.ipynb\n",
      "24-03-2025  20:34             6,649 Even_odd.ipynb\n",
      "27-03-2025  14:48            21,724 file_handling.ipynb\n",
      "27-03-2025  14:15            34,516 function.ipynb\n",
      "27-03-2025  14:33             9,803 lambda _function.ipynb\n",
      "21-03-2025  22:59            18,067 loop_statement.ipynb\n",
      "27-03-2025  14:44                81 my_functions.py\n",
      "18-03-2025  14:37             4,487 operaters.ipynb\n",
      "18-03-2025  14:02             2,277 operation.ipynb\n",
      "27-03-2025  14:46                 0 test2.csv\n",
      "18-03-2025  15:04             5,419 variables.ipynb\n",
      "              13 File(s)        134,271 bytes\n",
      "               3 Dir(s)  81,544,683,520 bytes free\n"
     ]
    }
   ],
   "source": [
    "ls"
   ]
  },
  {
   "cell_type": "code",
   "execution_count": 31,
   "id": "e7567612-0078-4ebe-8053-2269394071f9",
   "metadata": {},
   "outputs": [],
   "source": [
    "f = open('students.csv', mode='w')"
   ]
  },
  {
   "cell_type": "code",
   "execution_count": 32,
   "id": "aca3dcaf-9b21-4f31-8858-7fdd9f7e94f6",
   "metadata": {},
   "outputs": [
    {
     "data": {
      "text/plain": [
       "23"
      ]
     },
     "execution_count": 32,
     "metadata": {},
     "output_type": "execute_result"
    }
   ],
   "source": [
    "f.write('This is my line no one.')"
   ]
  },
  {
   "cell_type": "code",
   "execution_count": 33,
   "id": "4c220ade-a371-4bb4-baf5-520e51baf7c1",
   "metadata": {},
   "outputs": [],
   "source": [
    "f.close()"
   ]
  },
  {
   "cell_type": "code",
   "execution_count": 34,
   "id": "49233871-401b-4231-b345-688feb74f6cc",
   "metadata": {},
   "outputs": [],
   "source": [
    "f = open('students.csv', mode='r')"
   ]
  },
  {
   "cell_type": "code",
   "execution_count": 35,
   "id": "2f608c0d-da49-4dd4-be2a-046b26c8599f",
   "metadata": {},
   "outputs": [
    {
     "data": {
      "text/plain": [
       "'This is my line no one.'"
      ]
     },
     "execution_count": 35,
     "metadata": {},
     "output_type": "execute_result"
    }
   ],
   "source": [
    "f.read()"
   ]
  },
  {
   "cell_type": "code",
   "execution_count": 36,
   "id": "0f059da2-4afe-491e-8249-6355b591f095",
   "metadata": {},
   "outputs": [
    {
     "data": {
      "text/plain": [
       "0"
      ]
     },
     "execution_count": 36,
     "metadata": {},
     "output_type": "execute_result"
    }
   ],
   "source": [
    "f.seek(0)"
   ]
  },
  {
   "cell_type": "code",
   "execution_count": 37,
   "id": "f91aba2c-6dca-4fe8-a3f7-130ecc378d34",
   "metadata": {},
   "outputs": [
    {
     "data": {
      "text/plain": [
       "'This is my line no one.'"
      ]
     },
     "execution_count": 37,
     "metadata": {},
     "output_type": "execute_result"
    }
   ],
   "source": [
    "f.read()"
   ]
  },
  {
   "cell_type": "code",
   "execution_count": 38,
   "id": "cd6e70da-b561-403d-9587-1d2f00c9f60f",
   "metadata": {},
   "outputs": [
    {
     "data": {
      "text/plain": [
       "5"
      ]
     },
     "execution_count": 38,
     "metadata": {},
     "output_type": "execute_result"
    }
   ],
   "source": [
    "f.seek(5)"
   ]
  },
  {
   "cell_type": "code",
   "execution_count": 39,
   "id": "a0ec2c16-29b9-4a62-b536-837f094401af",
   "metadata": {},
   "outputs": [
    {
     "data": {
      "text/plain": [
       "'is my line no one.'"
      ]
     },
     "execution_count": 39,
     "metadata": {},
     "output_type": "execute_result"
    }
   ],
   "source": [
    "f.read()"
   ]
  },
  {
   "cell_type": "code",
   "execution_count": 40,
   "id": "8aa59218-1dac-4ea0-ba31-9c12778d32ac",
   "metadata": {},
   "outputs": [],
   "source": [
    "f.close()"
   ]
  },
  {
   "cell_type": "code",
   "execution_count": 41,
   "id": "456a41d5-2cf7-4b0d-9fd3-69db41da9313",
   "metadata": {},
   "outputs": [],
   "source": [
    "a = open('students.csv', mode='r+')"
   ]
  },
  {
   "cell_type": "code",
   "execution_count": 42,
   "id": "8a3b4ada-5847-4880-81b0-ee527d025316",
   "metadata": {},
   "outputs": [
    {
     "data": {
      "text/plain": [
       "'This is my line no one.'"
      ]
     },
     "execution_count": 42,
     "metadata": {},
     "output_type": "execute_result"
    }
   ],
   "source": [
    "a.read()"
   ]
  },
  {
   "cell_type": "code",
   "execution_count": 43,
   "id": "8012f381-a4b6-406d-a127-4ea0f1d803f5",
   "metadata": {},
   "outputs": [
    {
     "data": {
      "text/plain": [
       "5"
      ]
     },
     "execution_count": 43,
     "metadata": {},
     "output_type": "execute_result"
    }
   ],
   "source": [
    "a.write('hello')"
   ]
  },
  {
   "cell_type": "code",
   "execution_count": 46,
   "id": "f8390b25-442b-4a48-808d-88e80688d817",
   "metadata": {},
   "outputs": [
    {
     "data": {
      "text/plain": [
       "0"
      ]
     },
     "execution_count": 46,
     "metadata": {},
     "output_type": "execute_result"
    }
   ],
   "source": [
    "a.seek(0)"
   ]
  },
  {
   "cell_type": "code",
   "execution_count": 47,
   "id": "9dac1111-d354-44ed-bdf7-2877ab6785a9",
   "metadata": {},
   "outputs": [
    {
     "data": {
      "text/plain": [
       "'This is my line no one.hello'"
      ]
     },
     "execution_count": 47,
     "metadata": {},
     "output_type": "execute_result"
    }
   ],
   "source": [
    "a.read()"
   ]
  },
  {
   "cell_type": "code",
   "execution_count": 48,
   "id": "099d9390-cf75-4e33-af9a-1aac62d2d2c4",
   "metadata": {},
   "outputs": [
    {
     "data": {
      "text/plain": [
       "0"
      ]
     },
     "execution_count": 48,
     "metadata": {},
     "output_type": "execute_result"
    }
   ],
   "source": [
    "a.seek(0)"
   ]
  },
  {
   "cell_type": "code",
   "execution_count": 49,
   "id": "f210b8a3-1534-4680-a909-66ba4163a116",
   "metadata": {},
   "outputs": [
    {
     "data": {
      "text/plain": [
       "4"
      ]
     },
     "execution_count": 49,
     "metadata": {},
     "output_type": "execute_result"
    }
   ],
   "source": [
    "a.write('THIS')"
   ]
  },
  {
   "cell_type": "code",
   "execution_count": 50,
   "id": "55aad670-51fb-470a-b2d9-8a703d30d775",
   "metadata": {},
   "outputs": [
    {
     "data": {
      "text/plain": [
       "' is my line no one.hello'"
      ]
     },
     "execution_count": 50,
     "metadata": {},
     "output_type": "execute_result"
    }
   ],
   "source": [
    "a.read()"
   ]
  },
  {
   "cell_type": "code",
   "execution_count": 51,
   "id": "70463e07-d6a3-498f-97c1-fae65c3897bd",
   "metadata": {},
   "outputs": [
    {
     "data": {
      "text/plain": [
       "0"
      ]
     },
     "execution_count": 51,
     "metadata": {},
     "output_type": "execute_result"
    }
   ],
   "source": [
    "a.seek(0)"
   ]
  },
  {
   "cell_type": "code",
   "execution_count": 52,
   "id": "ba81b0b7-a9af-437a-b81a-3d3b6b5c3a52",
   "metadata": {},
   "outputs": [
    {
     "data": {
      "text/plain": [
       "'THIS is my line no one.hello'"
      ]
     },
     "execution_count": 52,
     "metadata": {},
     "output_type": "execute_result"
    }
   ],
   "source": [
    "a.read()"
   ]
  },
  {
   "cell_type": "code",
   "execution_count": 53,
   "id": "b2a75f6e-6575-4741-8522-4bc69881ea9e",
   "metadata": {},
   "outputs": [
    {
     "data": {
      "text/plain": [
       "8"
      ]
     },
     "execution_count": 53,
     "metadata": {},
     "output_type": "execute_result"
    }
   ],
   "source": [
    "a.write('New data')"
   ]
  },
  {
   "cell_type": "code",
   "execution_count": 54,
   "id": "c962ac23-7c12-4051-8064-7f28733541b4",
   "metadata": {},
   "outputs": [
    {
     "data": {
      "text/plain": [
       "0"
      ]
     },
     "execution_count": 54,
     "metadata": {},
     "output_type": "execute_result"
    }
   ],
   "source": [
    "a.seek(0)"
   ]
  },
  {
   "cell_type": "code",
   "execution_count": 55,
   "id": "4950a721-49ca-4a52-9cee-a9d8cdbe3617",
   "metadata": {},
   "outputs": [
    {
     "data": {
      "text/plain": [
       "'THIS is my line no one.helloNew data'"
      ]
     },
     "execution_count": 55,
     "metadata": {},
     "output_type": "execute_result"
    }
   ],
   "source": [
    "a.read()"
   ]
  },
  {
   "cell_type": "code",
   "execution_count": 56,
   "id": "c849547a-481c-49e6-8855-fca770524fe4",
   "metadata": {},
   "outputs": [],
   "source": [
    "f.close()"
   ]
  },
  {
   "cell_type": "code",
   "execution_count": 29,
   "id": "bd9e3d87-c138-49c3-86c5-ea712decdc9f",
   "metadata": {},
   "outputs": [],
   "source": [
    "f = open('test2.csv', mode= 'w')"
   ]
  },
  {
   "cell_type": "code",
   "execution_count": 2,
   "id": "49546277-b8f7-4445-977f-d90208c90cdd",
   "metadata": {},
   "outputs": [
    {
     "data": {
      "text/plain": [
       "672"
      ]
     },
     "execution_count": 2,
     "metadata": {},
     "output_type": "execute_result"
    }
   ],
   "source": [
    "f.write(\"\"\"India, officially the Republic of India,[j][21] is a country in South Asia.\n",
    "It is the seventh-largest country by area; the most populous country from June 2023 onwards;\n",
    "[22][23] and since its independence in 1947, the world's most populous democracy.\n",
    "[24][25][26] Bounded by the Indian Ocean on the south, the Arabian Sea on the southwest,\n",
    "and the Bay of Bengal on the southeast, it shares land borders with Pakistan to the west;\n",
    "[k] China, Nepal, and Bhutan to the north; and Bangladesh and Myanmar to the east. In the \n",
    "Indian Ocean, India is near Sri Lanka and the Maldives; its Andaman and Nicobar Islands \n",
    "share a maritime border with Thailand, Myanmar, and Indonesia.\"\"\")"
   ]
  },
  {
   "cell_type": "code",
   "execution_count": 3,
   "id": "b5e388db-1867-4f0e-b389-da0a3303a9ec",
   "metadata": {},
   "outputs": [],
   "source": [
    "f.close()"
   ]
  },
  {
   "cell_type": "code",
   "execution_count": 4,
   "id": "47ec1b54-0fd6-484c-b6f6-e922e5f82257",
   "metadata": {},
   "outputs": [],
   "source": [
    "f = open('test2.csv', mode='r+')"
   ]
  },
  {
   "cell_type": "code",
   "execution_count": 5,
   "id": "a1db8b40-d6ca-4b91-ab5b-b186f1fce473",
   "metadata": {},
   "outputs": [
    {
     "data": {
      "text/plain": [
       "\"India, officially the Republic of India,[j][21] is a country in South Asia.\\nIt is the seventh-largest country by area; the most populous country from June 2023 onwards;\\n[22][23] and since its independence in 1947, the world's most populous democracy.\\n[24][25][26] Bounded by the Indian Ocean on the south, the Arabian Sea on the southwest,\\nand the Bay of Bengal on the southeast, it shares land borders with Pakistan to the west;\\n[k] China, Nepal, and Bhutan to the north; and Bangladesh and Myanmar to the east. In the \\nIndian Ocean, India is near Sri Lanka and the Maldives; its Andaman and Nicobar Islands \\nshare a maritime border with Thailand, Myanmar, and Indonesia.\""
      ]
     },
     "execution_count": 5,
     "metadata": {},
     "output_type": "execute_result"
    }
   ],
   "source": [
    "f.read()"
   ]
  },
  {
   "cell_type": "code",
   "execution_count": 6,
   "id": "1ecb7e73-8933-48f6-b9a0-2f098996cec2",
   "metadata": {},
   "outputs": [
    {
     "data": {
      "text/plain": [
       "0"
      ]
     },
     "execution_count": 6,
     "metadata": {},
     "output_type": "execute_result"
    }
   ],
   "source": [
    "f.seek(0)"
   ]
  },
  {
   "cell_type": "code",
   "execution_count": 7,
   "id": "af36f3d2-5b27-4635-86b6-1d27478ec900",
   "metadata": {},
   "outputs": [
    {
     "data": {
      "text/plain": [
       "'India, officially the Republic of India,[j][21] is a country in South Asia.\\n'"
      ]
     },
     "execution_count": 7,
     "metadata": {},
     "output_type": "execute_result"
    }
   ],
   "source": [
    "f.readline()"
   ]
  },
  {
   "cell_type": "code",
   "execution_count": 8,
   "id": "c0bbaccd-f2fc-407c-a49d-4e54309e22b0",
   "metadata": {},
   "outputs": [
    {
     "data": {
      "text/plain": [
       "'It is the seventh-largest country by area; the most populous country from June 2023 onwards;\\n'"
      ]
     },
     "execution_count": 8,
     "metadata": {},
     "output_type": "execute_result"
    }
   ],
   "source": [
    "f.readline()"
   ]
  },
  {
   "cell_type": "code",
   "execution_count": 9,
   "id": "6f87a503-bd8b-447c-b22f-8b503f208ded",
   "metadata": {},
   "outputs": [
    {
     "data": {
      "text/plain": [
       "0"
      ]
     },
     "execution_count": 9,
     "metadata": {},
     "output_type": "execute_result"
    }
   ],
   "source": [
    "f.seek(0)"
   ]
  },
  {
   "cell_type": "code",
   "execution_count": 10,
   "id": "e876eaaf-f9f2-4c50-9b07-564e8f5db08a",
   "metadata": {},
   "outputs": [
    {
     "data": {
      "text/plain": [
       "['India, officially the Republic of India,[j][21] is a country in South Asia.\\n',\n",
       " 'It is the seventh-largest country by area; the most populous country from June 2023 onwards;\\n',\n",
       " \"[22][23] and since its independence in 1947, the world's most populous democracy.\\n\",\n",
       " '[24][25][26] Bounded by the Indian Ocean on the south, the Arabian Sea on the southwest,\\n',\n",
       " 'and the Bay of Bengal on the southeast, it shares land borders with Pakistan to the west;\\n',\n",
       " '[k] China, Nepal, and Bhutan to the north; and Bangladesh and Myanmar to the east. In the \\n',\n",
       " 'Indian Ocean, India is near Sri Lanka and the Maldives; its Andaman and Nicobar Islands \\n',\n",
       " 'share a maritime border with Thailand, Myanmar, and Indonesia.']"
      ]
     },
     "execution_count": 10,
     "metadata": {},
     "output_type": "execute_result"
    }
   ],
   "source": [
    "f.readlines()"
   ]
  },
  {
   "cell_type": "code",
   "execution_count": 11,
   "id": "a236dd83-3bb8-4bfb-8682-9a9173d5944e",
   "metadata": {},
   "outputs": [
    {
     "data": {
      "text/plain": [
       "0"
      ]
     },
     "execution_count": 11,
     "metadata": {},
     "output_type": "execute_result"
    }
   ],
   "source": [
    "f.seek(0)"
   ]
  },
  {
   "cell_type": "code",
   "execution_count": 12,
   "id": "0c394e8e-573a-466c-93f0-79a0f5da5008",
   "metadata": {},
   "outputs": [
    {
     "name": "stdout",
     "output_type": "stream",
     "text": [
      "I\n",
      "n\n",
      "d\n",
      "i\n",
      "a\n",
      ",\n",
      " \n",
      "o\n",
      "f\n",
      "f\n",
      "i\n",
      "c\n",
      "i\n",
      "a\n",
      "l\n",
      "l\n",
      "y\n",
      " \n",
      "t\n",
      "h\n",
      "e\n",
      " \n",
      "R\n",
      "e\n",
      "p\n",
      "u\n",
      "b\n",
      "l\n",
      "i\n",
      "c\n",
      " \n",
      "o\n",
      "f\n",
      " \n",
      "I\n",
      "n\n",
      "d\n",
      "i\n",
      "a\n",
      ",\n",
      "[\n",
      "j\n",
      "]\n",
      "[\n",
      "2\n",
      "1\n",
      "]\n",
      " \n",
      "i\n",
      "s\n",
      " \n",
      "a\n",
      " \n",
      "c\n",
      "o\n",
      "u\n",
      "n\n",
      "t\n",
      "r\n",
      "y\n",
      " \n",
      "i\n",
      "n\n",
      " \n",
      "S\n",
      "o\n",
      "u\n",
      "t\n",
      "h\n",
      " \n",
      "A\n",
      "s\n",
      "i\n",
      "a\n",
      ".\n",
      "\n",
      "\n"
     ]
    }
   ],
   "source": [
    "for i in f.readline():\n",
    "    print(i)"
   ]
  },
  {
   "cell_type": "code",
   "execution_count": 13,
   "id": "c566615d-1918-4af0-acb0-a32b1156f921",
   "metadata": {},
   "outputs": [
    {
     "data": {
      "text/plain": [
       "0"
      ]
     },
     "execution_count": 13,
     "metadata": {},
     "output_type": "execute_result"
    }
   ],
   "source": [
    "f.seek(0)"
   ]
  },
  {
   "cell_type": "code",
   "execution_count": 14,
   "id": "5b9afbdc-9108-42c9-b2a4-a83a418ed0f5",
   "metadata": {},
   "outputs": [
    {
     "name": "stdout",
     "output_type": "stream",
     "text": [
      "India, officially the Republic of India,[j][21] is a country in South Asia.\n",
      "\n",
      "It is the seventh-largest country by area; the most populous country from June 2023 onwards;\n",
      "\n",
      "[22][23] and since its independence in 1947, the world's most populous democracy.\n",
      "\n",
      "[24][25][26] Bounded by the Indian Ocean on the south, the Arabian Sea on the southwest,\n",
      "\n",
      "and the Bay of Bengal on the southeast, it shares land borders with Pakistan to the west;\n",
      "\n",
      "[k] China, Nepal, and Bhutan to the north; and Bangladesh and Myanmar to the east. In the \n",
      "\n",
      "Indian Ocean, India is near Sri Lanka and the Maldives; its Andaman and Nicobar Islands \n",
      "\n",
      "share a maritime border with Thailand, Myanmar, and Indonesia.\n"
     ]
    }
   ],
   "source": [
    "for i in f.readlines():\n",
    "    print(i)"
   ]
  },
  {
   "cell_type": "code",
   "execution_count": 15,
   "id": "8da239b0-f46e-41d8-afed-4094bf0ced3f",
   "metadata": {},
   "outputs": [
    {
     "data": {
      "text/plain": [
       "0"
      ]
     },
     "execution_count": 15,
     "metadata": {},
     "output_type": "execute_result"
    }
   ],
   "source": [
    "f.seek(0)"
   ]
  },
  {
   "cell_type": "code",
   "execution_count": 16,
   "id": "2bd43f0f-d258-410e-bc89-8b5e828686bc",
   "metadata": {},
   "outputs": [],
   "source": [
    "sent = []"
   ]
  },
  {
   "cell_type": "code",
   "execution_count": 17,
   "id": "7f921fbd-88f9-4ea6-be88-bd1cd12fe9b4",
   "metadata": {},
   "outputs": [],
   "source": [
    "for i in f.readlines():\n",
    "    sent.append(i)"
   ]
  },
  {
   "cell_type": "code",
   "execution_count": 18,
   "id": "6b668ddf-2ea1-474e-93ab-046a29e3122c",
   "metadata": {},
   "outputs": [
    {
     "data": {
      "text/plain": [
       "['India, officially the Republic of India,[j][21] is a country in South Asia.\\n',\n",
       " 'It is the seventh-largest country by area; the most populous country from June 2023 onwards;\\n',\n",
       " \"[22][23] and since its independence in 1947, the world's most populous democracy.\\n\",\n",
       " '[24][25][26] Bounded by the Indian Ocean on the south, the Arabian Sea on the southwest,\\n',\n",
       " 'and the Bay of Bengal on the southeast, it shares land borders with Pakistan to the west;\\n',\n",
       " '[k] China, Nepal, and Bhutan to the north; and Bangladesh and Myanmar to the east. In the \\n',\n",
       " 'Indian Ocean, India is near Sri Lanka and the Maldives; its Andaman and Nicobar Islands \\n',\n",
       " 'share a maritime border with Thailand, Myanmar, and Indonesia.']"
      ]
     },
     "execution_count": 18,
     "metadata": {},
     "output_type": "execute_result"
    }
   ],
   "source": [
    "sent"
   ]
  },
  {
   "cell_type": "code",
   "execution_count": 19,
   "id": "ff5ab76f-587e-43a1-8de0-9d27f61df620",
   "metadata": {},
   "outputs": [
    {
     "name": "stdout",
     "output_type": "stream",
     "text": [
      "India, officially the Republic of India,[j][21] is a country in South Asia.\n",
      "\n",
      "It is the seventh-largest country by area; the most populous country from June 2023 onwards;\n",
      "\n",
      "[22][23] and since its independence in 1947, the world's most populous democracy.\n",
      "\n",
      "[24][25][26] Bounded by the Indian Ocean on the south, the Arabian Sea on the southwest,\n",
      "\n",
      "and the Bay of Bengal on the southeast, it shares land borders with Pakistan to the west;\n",
      "\n",
      "[k] China, Nepal, and Bhutan to the north; and Bangladesh and Myanmar to the east. In the \n",
      "\n",
      "Indian Ocean, India is near Sri Lanka and the Maldives; its Andaman and Nicobar Islands \n",
      "\n",
      "share a maritime border with Thailand, Myanmar, and Indonesia.\n"
     ]
    }
   ],
   "source": [
    "for i in sent:\n",
    "    print(i)"
   ]
  },
  {
   "cell_type": "code",
   "execution_count": 20,
   "id": "25ed8699-7568-4a0e-ac63-f04e61325fdb",
   "metadata": {},
   "outputs": [
    {
     "data": {
      "text/plain": [
       "[\"'India, officially the Republic of India,[j][21] is a country in South Asia.\",\n",
       " \"',\",\n",
       " \" 'It is the seventh-largest country by area; the most populous country from June 2023 onwards;\",\n",
       " \"'\"]"
      ]
     },
     "execution_count": 20,
     "metadata": {},
     "output_type": "execute_result"
    }
   ],
   "source": [
    "\"\"\"'India, officially the Republic of India,[j][21] is a country in South Asia.\\n',\n",
    " 'It is the seventh-largest country by area; the most populous country from June 2023 onwards;\\n'\"\"\".split('\\n')"
   ]
  },
  {
   "cell_type": "code",
   "execution_count": 21,
   "id": "35eeaff8-4a8c-4f5c-883c-aa4a3157fcc4",
   "metadata": {},
   "outputs": [
    {
     "data": {
      "text/plain": [
       "['India, officially the Republic of India,[j][21] is a country in South Asia.\\n',\n",
       " 'It is the seventh-largest country by area; the most populous country from June 2023 onwards;\\n',\n",
       " \"[22][23] and since its independence in 1947, the world's most populous democracy.\\n\",\n",
       " '[24][25][26] Bounded by the Indian Ocean on the south, the Arabian Sea on the southwest,\\n',\n",
       " 'and the Bay of Bengal on the southeast, it shares land borders with Pakistan to the west;\\n',\n",
       " '[k] China, Nepal, and Bhutan to the north; and Bangladesh and Myanmar to the east. In the \\n',\n",
       " 'Indian Ocean, India is near Sri Lanka and the Maldives; its Andaman and Nicobar Islands \\n',\n",
       " 'share a maritime border with Thailand, Myanmar, and Indonesia.']"
      ]
     },
     "execution_count": 21,
     "metadata": {},
     "output_type": "execute_result"
    }
   ],
   "source": [
    "sent"
   ]
  },
  {
   "cell_type": "code",
   "execution_count": 22,
   "id": "83bbb050-c786-4736-a6a5-72bebfd64598",
   "metadata": {},
   "outputs": [],
   "source": [
    "sen1 = ['India, officially the Republic of India,[j][21] is a country in South Asia.\\n']"
   ]
  },
  {
   "cell_type": "code",
   "execution_count": 23,
   "id": "e9f92483-d075-4107-9559-13fac2c98e66",
   "metadata": {},
   "outputs": [
    {
     "name": "stdout",
     "output_type": "stream",
     "text": [
      "India, officially the Republic of India,[j][21] is a country in South Asia.\n",
      "\n"
     ]
    }
   ],
   "source": [
    "for i in sen1:\n",
    "    print(i)"
   ]
  },
  {
   "cell_type": "code",
   "execution_count": 24,
   "id": "19e39248-a295-4dee-9065-359b6aff5c81",
   "metadata": {},
   "outputs": [
    {
     "name": "stdout",
     "output_type": "stream",
     "text": [
      "I\n",
      "n\n",
      "d\n",
      "i\n",
      "a\n",
      ",\n",
      " \n",
      "o\n",
      "f\n",
      "f\n",
      "i\n",
      "c\n",
      "i\n",
      "a\n",
      "l\n",
      "l\n",
      "y\n",
      " \n",
      "t\n",
      "h\n",
      "e\n",
      " \n",
      "R\n",
      "e\n",
      "p\n",
      "u\n",
      "b\n",
      "l\n",
      "i\n",
      "c\n",
      " \n",
      "o\n",
      "f\n",
      " \n",
      "I\n",
      "n\n",
      "d\n",
      "i\n",
      "a\n",
      ",\n",
      "[\n",
      "j\n",
      "]\n",
      "[\n",
      "2\n",
      "1\n",
      "]\n",
      " \n",
      "i\n",
      "s\n",
      " \n",
      "a\n",
      " \n",
      "c\n",
      "o\n",
      "u\n",
      "n\n",
      "t\n",
      "r\n",
      "y\n",
      " \n",
      "i\n",
      "n\n",
      " \n",
      "S\n",
      "o\n",
      "u\n",
      "t\n",
      "h\n",
      " \n",
      "A\n",
      "s\n",
      "i\n",
      "a\n",
      ".\n",
      "\n",
      "\n"
     ]
    }
   ],
   "source": [
    "words1 = []\n",
    "for i in sen1:\n",
    "    for words in i:\n",
    "        print(words)\n",
    "        words1.append(words)"
   ]
  },
  {
   "cell_type": "code",
   "execution_count": 25,
   "id": "462a8acb-9d3b-4206-b832-5ed9d77688ab",
   "metadata": {},
   "outputs": [
    {
     "data": {
      "text/plain": [
       "['I',\n",
       " 'n',\n",
       " 'd',\n",
       " 'i',\n",
       " 'a',\n",
       " ',',\n",
       " ' ',\n",
       " 'o',\n",
       " 'f',\n",
       " 'f',\n",
       " 'i',\n",
       " 'c',\n",
       " 'i',\n",
       " 'a',\n",
       " 'l',\n",
       " 'l',\n",
       " 'y',\n",
       " ' ',\n",
       " 't',\n",
       " 'h',\n",
       " 'e',\n",
       " ' ',\n",
       " 'R',\n",
       " 'e',\n",
       " 'p',\n",
       " 'u',\n",
       " 'b',\n",
       " 'l',\n",
       " 'i',\n",
       " 'c',\n",
       " ' ',\n",
       " 'o',\n",
       " 'f',\n",
       " ' ',\n",
       " 'I',\n",
       " 'n',\n",
       " 'd',\n",
       " 'i',\n",
       " 'a',\n",
       " ',',\n",
       " '[',\n",
       " 'j',\n",
       " ']',\n",
       " '[',\n",
       " '2',\n",
       " '1',\n",
       " ']',\n",
       " ' ',\n",
       " 'i',\n",
       " 's',\n",
       " ' ',\n",
       " 'a',\n",
       " ' ',\n",
       " 'c',\n",
       " 'o',\n",
       " 'u',\n",
       " 'n',\n",
       " 't',\n",
       " 'r',\n",
       " 'y',\n",
       " ' ',\n",
       " 'i',\n",
       " 'n',\n",
       " ' ',\n",
       " 'S',\n",
       " 'o',\n",
       " 'u',\n",
       " 't',\n",
       " 'h',\n",
       " ' ',\n",
       " 'A',\n",
       " 's',\n",
       " 'i',\n",
       " 'a',\n",
       " '.',\n",
       " '\\n']"
      ]
     },
     "execution_count": 25,
     "metadata": {},
     "output_type": "execute_result"
    }
   ],
   "source": [
    "words1"
   ]
  },
  {
   "cell_type": "raw",
   "id": "5383a6e3-7ee2-4308-bcb5-33c55a23d414",
   "metadata": {},
   "source": [
    "# Functions in python file"
   ]
  },
  {
   "cell_type": "code",
   "execution_count": 26,
   "id": "cbd1a26d-331c-435b-8711-dcd680ef0287",
   "metadata": {},
   "outputs": [],
   "source": [
    "f = open('my_functions.py', mode='w')"
   ]
  },
  {
   "cell_type": "code",
   "execution_count": 27,
   "id": "4ee2198b-23b9-4dba-bc00-c72c36901622",
   "metadata": {},
   "outputs": [
    {
     "data": {
      "text/plain": [
       "77"
      ]
     },
     "execution_count": 27,
     "metadata": {},
     "output_type": "execute_result"
    }
   ],
   "source": [
    "f.write(\"\"\"def sum(a,b):\n",
    "    return a + b\n",
    "    \n",
    "def multiplication(a,b):\n",
    "    return a * b\"\"\")"
   ]
  },
  {
   "cell_type": "code",
   "execution_count": 28,
   "id": "639264da-29a2-4156-9d61-e45573d7d788",
   "metadata": {},
   "outputs": [],
   "source": [
    "f.close()"
   ]
  },
  {
   "cell_type": "code",
   "execution_count": 58,
   "id": "403730aa-7c1e-4d21-86ed-77b606f3fa30",
   "metadata": {},
   "outputs": [],
   "source": [
    "a = open('sentence-data.csv', mode= 'w')"
   ]
  },
  {
   "cell_type": "code",
   "execution_count": 59,
   "id": "9fc2be1b-46ad-4809-beff-4ccb20dbf10d",
   "metadata": {},
   "outputs": [
    {
     "data": {
      "text/plain": [
       "75"
      ]
     },
     "execution_count": 59,
     "metadata": {},
     "output_type": "execute_result"
    }
   ],
   "source": [
    "a.write(\"\"\"This is my sentence one.\n",
    "This is my sentence Two.\n",
    "This is my sentence Three\"\"\")"
   ]
  },
  {
   "cell_type": "code",
   "execution_count": 60,
   "id": "ce27362e-8035-4a23-966b-2ef81931ed4e",
   "metadata": {},
   "outputs": [],
   "source": [
    "a.close()"
   ]
  },
  {
   "cell_type": "code",
   "execution_count": 61,
   "id": "835475b3-685f-470f-b2b2-b39fff317223",
   "metadata": {},
   "outputs": [],
   "source": [
    "a = open('sentence-data.csv', mode='r+')"
   ]
  },
  {
   "cell_type": "code",
   "execution_count": 62,
   "id": "4e809821-c0e7-4ad0-a3bf-36256b919848",
   "metadata": {},
   "outputs": [
    {
     "data": {
      "text/plain": [
       "'This is my sentence one.\\nThis is my sentence Two.\\nThis is my sentence Three'"
      ]
     },
     "execution_count": 62,
     "metadata": {},
     "output_type": "execute_result"
    }
   ],
   "source": [
    "a.read()"
   ]
  },
  {
   "cell_type": "code",
   "execution_count": 63,
   "id": "ef3fa350-0ba7-4fa3-9a17-96b1488e47a9",
   "metadata": {},
   "outputs": [
    {
     "name": "stdout",
     "output_type": "stream",
     "text": [
      "This is my sentence one.\n",
      "This is my sentence Two.\n",
      "This is my sentence Three\n"
     ]
    }
   ],
   "source": [
    "print('This is my sentence one.\\nThis is my sentence Two.\\nThis is my sentence Three')"
   ]
  },
  {
   "cell_type": "code",
   "execution_count": 64,
   "id": "0019fc69-ba93-4cf7-9f99-ffa3962d2f98",
   "metadata": {},
   "outputs": [
    {
     "data": {
      "text/plain": [
       "0"
      ]
     },
     "execution_count": 64,
     "metadata": {},
     "output_type": "execute_result"
    }
   ],
   "source": [
    "a.seek(0)"
   ]
  },
  {
   "cell_type": "code",
   "execution_count": 65,
   "id": "0c4e1050-22a6-45c0-a7eb-52d3dd8299f2",
   "metadata": {},
   "outputs": [
    {
     "data": {
      "text/plain": [
       "'This is my sentence one.\\n'"
      ]
     },
     "execution_count": 65,
     "metadata": {},
     "output_type": "execute_result"
    }
   ],
   "source": [
    "a.readline()"
   ]
  },
  {
   "cell_type": "code",
   "execution_count": 66,
   "id": "d1d5e61b-f4ee-448d-ae6f-0932d8e541fc",
   "metadata": {},
   "outputs": [
    {
     "data": {
      "text/plain": [
       "'This is my sentence Two.\\n'"
      ]
     },
     "execution_count": 66,
     "metadata": {},
     "output_type": "execute_result"
    }
   ],
   "source": [
    "a.readline()"
   ]
  },
  {
   "cell_type": "code",
   "execution_count": 67,
   "id": "0991d398-6bbc-48f6-86d8-7fc42d97a135",
   "metadata": {},
   "outputs": [
    {
     "data": {
      "text/plain": [
       "'This is my sentence Three'"
      ]
     },
     "execution_count": 67,
     "metadata": {},
     "output_type": "execute_result"
    }
   ],
   "source": [
    "a.readline()"
   ]
  },
  {
   "cell_type": "code",
   "execution_count": 68,
   "id": "738fc3f0-e9b3-4659-a259-dc37a3ff07c5",
   "metadata": {},
   "outputs": [
    {
     "data": {
      "text/plain": [
       "0"
      ]
     },
     "execution_count": 68,
     "metadata": {},
     "output_type": "execute_result"
    }
   ],
   "source": [
    "a.seek(0)"
   ]
  },
  {
   "cell_type": "code",
   "execution_count": 69,
   "id": "0187df7b-94fb-4815-9c63-68b3592de536",
   "metadata": {},
   "outputs": [
    {
     "data": {
      "text/plain": [
       "['This is my sentence one.\\n',\n",
       " 'This is my sentence Two.\\n',\n",
       " 'This is my sentence Three']"
      ]
     },
     "execution_count": 69,
     "metadata": {},
     "output_type": "execute_result"
    }
   ],
   "source": [
    "a.readlines()"
   ]
  },
  {
   "cell_type": "code",
   "execution_count": null,
   "id": "03cf0725-f2ef-4137-babd-bfd594f820c2",
   "metadata": {},
   "outputs": [],
   "source": []
  }
 ],
 "metadata": {
  "kernelspec": {
   "display_name": "Python 3 (ipykernel)",
   "language": "python",
   "name": "python3"
  },
  "language_info": {
   "codemirror_mode": {
    "name": "ipython",
    "version": 3
   },
   "file_extension": ".py",
   "mimetype": "text/x-python",
   "name": "python",
   "nbconvert_exporter": "python",
   "pygments_lexer": "ipython3",
   "version": "3.12.7"
  }
 },
 "nbformat": 4,
 "nbformat_minor": 5
}
