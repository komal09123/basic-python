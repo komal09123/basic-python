{
 "cells": [
  {
   "cell_type": "markdown",
   "id": "02977870-ebd7-4b8c-ba89-ae951b666641",
   "metadata": {},
   "source": [
    "# exception handling\n",
    "file handling in python is simplified with built-in method,which include creating opening and closing files."
   ]
  },
  {
   "cell_type": "code",
   "execution_count": 1,
   "id": "777ac38c-038b-47b6-bade-3eadc6b816b8",
   "metadata": {},
   "outputs": [
    {
     "name": "stdin",
     "output_type": "stream",
     "text": [
      "write int number only komal\n"
     ]
    },
    {
     "name": "stdout",
     "output_type": "stream",
     "text": [
      "There is error at try blog of a input which should be int only\n"
     ]
    }
   ],
   "source": [
    "try:\n",
    "    a = int(input('write int number only'))\n",
    "except:\n",
    "    print('There is error at try blog of a input which should be int only')"
   ]
  },
  {
   "cell_type": "code",
   "execution_count": 3,
   "id": "c8dc6d91-a42c-4996-b072-ca9cfcd59385",
   "metadata": {},
   "outputs": [
    {
     "name": "stdin",
     "output_type": "stream",
     "text": [
      "write int number only hello\n"
     ]
    },
    {
     "name": "stdout",
     "output_type": "stream",
     "text": [
      "invalid literal for int() with base 10: 'hello'\n"
     ]
    }
   ],
   "source": [
    "try:\n",
    "    a = int(input('write int number only'))\n",
    "except Exception as e:\n",
    "    print(e)"
   ]
  },
  {
   "cell_type": "code",
   "execution_count": 4,
   "id": "c383ba43-c811-4085-8bdb-d7d04523d686",
   "metadata": {},
   "outputs": [
    {
     "name": "stdin",
     "output_type": "stream",
     "text": [
      " komal\n"
     ]
    },
    {
     "name": "stdout",
     "output_type": "stream",
     "text": [
      "invalid literal for int() with base 10: 'komal'\n"
     ]
    }
   ],
   "source": [
    "try:\n",
    "    a = int(input())\n",
    "    b = int(input())\n",
    "    result = a / b\n",
    "    print(result)\n",
    "except Exception as error:\n",
    "    print(error)"
   ]
  },
  {
   "cell_type": "code",
   "execution_count": 5,
   "id": "7ac66091-b2c7-489c-afd7-cf985374c16b",
   "metadata": {},
   "outputs": [
    {
     "name": "stdin",
     "output_type": "stream",
     "text": [
      " kkkkk\n"
     ]
    },
    {
     "name": "stdout",
     "output_type": "stream",
     "text": [
      "invalid literal for int() with base 10: 'kkkkk'\n",
      "problem in try blog while taking input\n"
     ]
    }
   ],
   "source": [
    "try:\n",
    "    a = int(input())\n",
    "    b = int(input())\n",
    "    result = a / b\n",
    "    print(result)\n",
    "except Exception as error:\n",
    "    print(error)\n",
    "    print('problem in try blog while taking input')"
   ]
  },
  {
   "cell_type": "code",
   "execution_count": 6,
   "id": "57dcd395-7b37-4bbb-b41f-c8e29924e535",
   "metadata": {},
   "outputs": [],
   "source": [
    "def test(a,b):\n",
    "    try:\n",
    "        print(a+b)\n",
    "    except Exception as e:\n",
    "        print(e)"
   ]
  },
  {
   "cell_type": "code",
   "execution_count": 7,
   "id": "1f8079c4-155a-4a40-8543-bf967c0c3c19",
   "metadata": {},
   "outputs": [
    {
     "name": "stdout",
     "output_type": "stream",
     "text": [
      "unsupported operand type(s) for +: 'int' and 'str'\n"
     ]
    }
   ],
   "source": [
    "test(1,'Hello')"
   ]
  },
  {
   "cell_type": "code",
   "execution_count": 8,
   "id": "a14e047c-77af-4fec-a7e5-881a61f63659",
   "metadata": {},
   "outputs": [],
   "source": [
    "def test2(a,b):\n",
    "    print(a+b)"
   ]
  },
  {
   "cell_type": "code",
   "execution_count": 9,
   "id": "373660b2-790e-4a8f-86e2-68182ebb01c5",
   "metadata": {},
   "outputs": [
    {
     "name": "stdout",
     "output_type": "stream",
     "text": [
      "3\n"
     ]
    }
   ],
   "source": [
    "test2(1,2)"
   ]
  },
  {
   "cell_type": "code",
   "execution_count": 10,
   "id": "cd3b4ec2-47a8-4a1e-8bcd-60ef579c4dc2",
   "metadata": {},
   "outputs": [
    {
     "name": "stdout",
     "output_type": "stream",
     "text": [
      "unsupported operand type(s) for +: 'int' and 'str'\n"
     ]
    }
   ],
   "source": [
    "test(1,'Hello')"
   ]
  },
  {
   "cell_type": "code",
   "execution_count": 11,
   "id": "341ad5f2-0fcc-4324-9d0f-bf317dd633ab",
   "metadata": {},
   "outputs": [
    {
     "name": "stdin",
     "output_type": "stream",
     "text": [
      " 7\n",
      " 9\n"
     ]
    },
    {
     "name": "stdout",
     "output_type": "stream",
     "text": [
      "16\n",
      "Project Completed\n"
     ]
    }
   ],
   "source": [
    "try:\n",
    "    a = int(input())\n",
    "    b = int(input())\n",
    "    print(a + b)\n",
    "except Exception as e:\n",
    "    print(e)\n",
    "finally:\n",
    "    print('Project Completed')"
   ]
  },
  {
   "cell_type": "code",
   "execution_count": 12,
   "id": "87d9cceb-9388-4b4f-8358-314352fbecab",
   "metadata": {},
   "outputs": [
    {
     "name": "stdin",
     "output_type": "stream",
     "text": [
      " kkkk\n"
     ]
    },
    {
     "name": "stdout",
     "output_type": "stream",
     "text": [
      "invalid literal for int() with base 10: 'kkkk'\n",
      "Project Completed\n"
     ]
    }
   ],
   "source": [
    "try:\n",
    "    a = int(input())\n",
    "    b = int(input())\n",
    "    print(a + b)\n",
    "except Exception as e:\n",
    "    print(e)\n",
    "finally:\n",
    "    print('Project Completed')"
   ]
  },
  {
   "cell_type": "code",
   "execution_count": 16,
   "id": "85f4b512-b6f2-4b0f-835e-e595d2a641be",
   "metadata": {},
   "outputs": [
    {
     "name": "stdout",
     "output_type": "stream",
     "text": [
      "\n",
      "File closed\n"
     ]
    }
   ],
   "source": [
    "try:\n",
    "    f = open('test2.csv', mode='r+')\n",
    "    print(f.read())\n",
    "except Exception as e:\n",
    "    print(e)\n",
    "finally:\n",
    "    f.close()\n",
    "    print('File closed')"
   ]
  },
  {
   "cell_type": "code",
   "execution_count": 17,
   "id": "ca5f8ca5-6920-4b55-85e2-66a8f3133386",
   "metadata": {},
   "outputs": [],
   "source": [
    "def add(a,b):\n",
    "    try:\n",
    "        print(a+b)\n",
    "    except Exception as e:\n",
    "        print(e)\n",
    "    finally:\n",
    "        print('Function/ Project Closed')"
   ]
  },
  {
   "cell_type": "code",
   "execution_count": 18,
   "id": "bf614ba6-5cd0-4414-aae9-c5734d755042",
   "metadata": {},
   "outputs": [
    {
     "name": "stdout",
     "output_type": "stream",
     "text": [
      "unsupported operand type(s) for +: 'int' and 'str'\n",
      "Function/ Project Closed\n"
     ]
    }
   ],
   "source": [
    "add(1,'H')"
   ]
  },
  {
   "cell_type": "code",
   "execution_count": 19,
   "id": "39fe9dcf-95a5-44cb-9c32-7482be3dd2ef",
   "metadata": {},
   "outputs": [
    {
     "name": "stdout",
     "output_type": "stream",
     "text": [
      "7\n",
      "Function/ Project Closed\n"
     ]
    }
   ],
   "source": [
    "add(2,5)"
   ]
  },
  {
   "cell_type": "code",
   "execution_count": 20,
   "id": "0493fbfd-5401-4717-bad3-f7524f19497b",
   "metadata": {},
   "outputs": [],
   "source": [
    "def test4(*args):\n",
    "    try:\n",
    "        for i in args:\n",
    "                print(z)\n",
    "    except Exception as e:\n",
    "        print(e)"
   ]
  },
  {
   "cell_type": "code",
   "execution_count": 21,
   "id": "b9120f24-fe2b-431d-8cb5-f3505a3f7df9",
   "metadata": {},
   "outputs": [
    {
     "name": "stdout",
     "output_type": "stream",
     "text": [
      "name 'z' is not defined\n"
     ]
    }
   ],
   "source": [
    "test4(2,4,2)"
   ]
  },
  {
   "cell_type": "code",
   "execution_count": null,
   "id": "df7507b5-6c81-4ed2-9e72-50ce3a6d5ab8",
   "metadata": {},
   "outputs": [],
   "source": []
  }
 ],
 "metadata": {
  "kernelspec": {
   "display_name": "Python 3 (ipykernel)",
   "language": "python",
   "name": "python3"
  },
  "language_info": {
   "codemirror_mode": {
    "name": "ipython",
    "version": 3
   },
   "file_extension": ".py",
   "mimetype": "text/x-python",
   "name": "python",
   "nbconvert_exporter": "python",
   "pygments_lexer": "ipython3",
   "version": "3.12.7"
  }
 },
 "nbformat": 4,
 "nbformat_minor": 5
}
