{
 "cells": [
  {
   "cell_type": "markdown",
   "id": "36b5f4df-ab05-4a6f-8c95-d789344a2e85",
   "metadata": {},
   "source": [
    "operator->control somthing/data"
   ]
  },
  {
   "cell_type": "raw",
   "id": "6852c3e4-ea4e-4b91-b47d-a82ef4d22c63",
   "metadata": {},
   "source": [
    "# Arithmatic operators\n",
    "(+,-,/,%,*)"
   ]
  },
  {
   "cell_type": "raw",
   "id": "7a5638ef-a6c1-4f86-9b2e-90aee45e40aa",
   "metadata": {},
   "source": [
    "# comparison operator\n",
    "we can use for comparing both values\n",
    "(>,<,>=,<=,==)"
   ]
  },
  {
   "cell_type": "raw",
   "id": "86fd0821-2f68-4939-a6ad-2e9c58f9dde4",
   "metadata": {},
   "source": [
    "# equal to (==)"
   ]
  },
  {
   "cell_type": "code",
   "execution_count": 3,
   "id": "a6be1ce7-e120-4d69-aca6-a53d195a51c7",
   "metadata": {},
   "outputs": [
    {
     "data": {
      "text/plain": [
       "True"
      ]
     },
     "execution_count": 3,
     "metadata": {},
     "output_type": "execute_result"
    }
   ],
   "source": [
    "5==5"
   ]
  },
  {
   "cell_type": "code",
   "execution_count": 4,
   "id": "79b667f6-b8ec-4b69-bcd9-4a5a2cc6a73c",
   "metadata": {},
   "outputs": [
    {
     "data": {
      "text/plain": [
       "False"
      ]
     },
     "execution_count": 4,
     "metadata": {},
     "output_type": "execute_result"
    }
   ],
   "source": [
    "10==5"
   ]
  },
  {
   "cell_type": "code",
   "execution_count": null,
   "id": "9b3b4950-c07b-42b9-9e6e-1f6e33ebd609",
   "metadata": {},
   "outputs": [],
   "source": [
    "# greterthan (>)"
   ]
  },
  {
   "cell_type": "code",
   "execution_count": 5,
   "id": "e1a8a662-060a-4cf4-92c0-7855a5c79e25",
   "metadata": {},
   "outputs": [
    {
     "data": {
      "text/plain": [
       "False"
      ]
     },
     "execution_count": 5,
     "metadata": {},
     "output_type": "execute_result"
    }
   ],
   "source": [
    "5>5"
   ]
  },
  {
   "cell_type": "code",
   "execution_count": 6,
   "id": "aab692bf-40ba-4b58-b8b0-9ea139df4133",
   "metadata": {},
   "outputs": [
    {
     "data": {
      "text/plain": [
       "True"
      ]
     },
     "execution_count": 6,
     "metadata": {},
     "output_type": "execute_result"
    }
   ],
   "source": [
    "5>4"
   ]
  },
  {
   "cell_type": "code",
   "execution_count": null,
   "id": "f97eb6e9-5684-4d8e-bff2-8aafd0524602",
   "metadata": {},
   "outputs": [],
   "source": [
    "# lessthan(<)"
   ]
  },
  {
   "cell_type": "code",
   "execution_count": 7,
   "id": "1c13a106-5bca-469a-beb9-bfffa26baeff",
   "metadata": {},
   "outputs": [
    {
     "data": {
      "text/plain": [
       "True"
      ]
     },
     "execution_count": 7,
     "metadata": {},
     "output_type": "execute_result"
    }
   ],
   "source": [
    "10<20"
   ]
  },
  {
   "cell_type": "code",
   "execution_count": null,
   "id": "98b33782-77cf-4b2d-9305-bb47fdcda069",
   "metadata": {},
   "outputs": [],
   "source": [
    "# greterthan equal to(>=)"
   ]
  },
  {
   "cell_type": "code",
   "execution_count": 8,
   "id": "bfd9d157-7e5d-433c-b552-2b7df60c6c67",
   "metadata": {},
   "outputs": [
    {
     "data": {
      "text/plain": [
       "True"
      ]
     },
     "execution_count": 8,
     "metadata": {},
     "output_type": "execute_result"
    }
   ],
   "source": [
    "10>=10"
   ]
  },
  {
   "cell_type": "code",
   "execution_count": 10,
   "id": "208ed6f8-d4fb-4e38-b46d-019696ab0877",
   "metadata": {},
   "outputs": [],
   "source": [
    "#lessthan equal to(<=)"
   ]
  },
  {
   "cell_type": "code",
   "execution_count": 9,
   "id": "392a03eb-e455-44fc-bbee-b18e8321dcc5",
   "metadata": {},
   "outputs": [
    {
     "data": {
      "text/plain": [
       "True"
      ]
     },
     "execution_count": 9,
     "metadata": {},
     "output_type": "execute_result"
    }
   ],
   "source": [
    "10<=10"
   ]
  },
  {
   "cell_type": "code",
   "execution_count": null,
   "id": "7a242e3b-51f1-4288-b999-44a1dbb8b135",
   "metadata": {},
   "outputs": [],
   "source": []
  }
 ],
 "metadata": {
  "kernelspec": {
   "display_name": "Python 3 (ipykernel)",
   "language": "python",
   "name": "python3"
  },
  "language_info": {
   "codemirror_mode": {
    "name": "ipython",
    "version": 3
   },
   "file_extension": ".py",
   "mimetype": "text/x-python",
   "name": "python",
   "nbconvert_exporter": "python",
   "pygments_lexer": "ipython3",
   "version": "3.12.7"
  }
 },
 "nbformat": 4,
 "nbformat_minor": 5
}
