{
 "cells": [
  {
   "cell_type": "markdown",
   "id": "b3d4ec5a-b80b-482c-ad8f-8c7b1c8cfac7",
   "metadata": {},
   "source": [
    "# variables\n",
    "variable we can use for storing any object other wise data type"
   ]
  },
  {
   "cell_type": "raw",
   "id": "87a0b158-2b7c-452a-9c35-9f588c505c4b",
   "metadata": {},
   "source": [
    "# rules \n",
    "1.we cant directly use any float or integer values for the declaring.\n",
    "2.we can use particular string data\n",
    "3.we cant assisen any special character"
   ]
  },
  {
   "cell_type": "code",
   "execution_count": 1,
   "id": "416bf8b0-2ba8-4e16-9c25-21a16e7acb21",
   "metadata": {},
   "outputs": [],
   "source": [
    "x = 5\n",
    "y = 5"
   ]
  },
  {
   "cell_type": "code",
   "execution_count": 2,
   "id": "2fd80199-02de-44dc-8a40-17c29ba51f74",
   "metadata": {},
   "outputs": [
    {
     "data": {
      "text/plain": [
       "10"
      ]
     },
     "execution_count": 2,
     "metadata": {},
     "output_type": "execute_result"
    }
   ],
   "source": [
    "x + y"
   ]
  },
  {
   "cell_type": "code",
   "execution_count": 3,
   "id": "d6fb6472-4fd5-425c-b847-b0f9c128f02f",
   "metadata": {},
   "outputs": [
    {
     "data": {
      "text/plain": [
       "100"
      ]
     },
     "execution_count": 3,
     "metadata": {},
     "output_type": "execute_result"
    }
   ],
   "source": [
    "x1 = 20  # it is integer data type\n",
    "x1 * y"
   ]
  },
  {
   "cell_type": "code",
   "execution_count": 4,
   "id": "e618cacb-4387-4ba6-82bd-c88c0135d53f",
   "metadata": {},
   "outputs": [
    {
     "data": {
      "text/plain": [
       "20.0"
      ]
     },
     "execution_count": 4,
     "metadata": {},
     "output_type": "execute_result"
    }
   ],
   "source": [
    "x_1 = 100   # it is float data type\n",
    "x_1 / 5"
   ]
  },
  {
   "cell_type": "code",
   "execution_count": 6,
   "id": "4a8a2f64-395e-49d0-ba90-dc56c172994a",
   "metadata": {},
   "outputs": [],
   "source": [
    "a = \"hello\"\n",
    "b = \"python\"\n",
    "c = a + b"
   ]
  },
  {
   "cell_type": "code",
   "execution_count": 7,
   "id": "46392c0d-f606-4827-9e26-147fd7aeb0ad",
   "metadata": {},
   "outputs": [
    {
     "data": {
      "text/plain": [
       "'hellopython'"
      ]
     },
     "execution_count": 7,
     "metadata": {},
     "output_type": "execute_result"
    }
   ],
   "source": [
    "c"
   ]
  },
  {
   "cell_type": "markdown",
   "id": "0a335e1b-b4f7-443e-b068-9793dd5d9c26",
   "metadata": {},
   "source": [
    "# input from user"
   ]
  },
  {
   "cell_type": "code",
   "execution_count": 8,
   "id": "73b4cb71-1053-4c47-a7ce-e61263c54e2a",
   "metadata": {},
   "outputs": [
    {
     "name": "stdin",
     "output_type": "stream",
     "text": [
      "write your name \"komal\"\n"
     ]
    }
   ],
   "source": [
    "name = input(\"write your name\")"
   ]
  },
  {
   "cell_type": "code",
   "execution_count": 12,
   "id": "272dc25c-6de4-4c6c-955c-9094cb8662bd",
   "metadata": {},
   "outputs": [
    {
     "name": "stdin",
     "output_type": "stream",
     "text": [
      "write your first name komal\n",
      "write your last name mirekar\n"
     ]
    }
   ],
   "source": [
    "first_name = input(\"write your first name\")\n",
    "last_name = input(\"write your last name\")\n",
    "full_name =(\"first_name\"+\" \"+\"last name\")"
   ]
  },
  {
   "cell_type": "code",
   "execution_count": 13,
   "id": "52e75087-a1cf-4b63-9a2b-2b8b08a18f14",
   "metadata": {},
   "outputs": [
    {
     "name": "stdin",
     "output_type": "stream",
     "text": [
      "enter your age 20\n"
     ]
    }
   ],
   "source": [
    "age = input(\"enter your age\")"
   ]
  },
  {
   "cell_type": "code",
   "execution_count": 15,
   "id": "275c9e7a-0f2c-4004-a670-51eca3023bee",
   "metadata": {},
   "outputs": [
    {
     "name": "stdin",
     "output_type": "stream",
     "text": [
      "enter your height 5.5\n"
     ]
    }
   ],
   "source": [
    "height = float(input(\"enter your height\"))"
   ]
  },
  {
   "cell_type": "code",
   "execution_count": null,
   "id": "be4e95c5-6b16-48fd-8086-9f6ca7bbfad4",
   "metadata": {},
   "outputs": [],
   "source": []
  }
 ],
 "metadata": {
  "kernelspec": {
   "display_name": "Python 3 (ipykernel)",
   "language": "python",
   "name": "python3"
  },
  "language_info": {
   "codemirror_mode": {
    "name": "ipython",
    "version": 3
   },
   "file_extension": ".py",
   "mimetype": "text/x-python",
   "name": "python",
   "nbconvert_exporter": "python",
   "pygments_lexer": "ipython3",
   "version": "3.12.7"
  }
 },
 "nbformat": 4,
 "nbformat_minor": 5
}
